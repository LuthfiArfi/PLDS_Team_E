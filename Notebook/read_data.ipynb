{
 "cells": [
  {
   "cell_type": "code",
   "execution_count": 5,
   "metadata": {},
   "outputs": [
    {
     "ename": "ModuleNotFoundError",
     "evalue": "No module named 'utils'",
     "output_type": "error",
     "traceback": [
      "\u001b[1;31m---------------------------------------------------------------------------\u001b[0m",
      "\u001b[1;31mModuleNotFoundError\u001b[0m                       Traceback (most recent call last)",
      "\u001b[1;32mc:\\Users\\yuha bach\\Downloads\\PLDS_Team_E\\Notebook\\read_data.ipynb Cell 2'\u001b[0m in \u001b[0;36m<cell line: 4>\u001b[1;34m()\u001b[0m\n\u001b[0;32m      <a href='vscode-notebook-cell:/c%3A/Users/yuha%20bach/Downloads/PLDS_Team_E/Notebook/read_data.ipynb#ch0000002?line=1'>2</a>\u001b[0m \u001b[39mimport\u001b[39;00m \u001b[39mjoblib\u001b[39;00m\n\u001b[0;32m      <a href='vscode-notebook-cell:/c%3A/Users/yuha%20bach/Downloads/PLDS_Team_E/Notebook/read_data.ipynb#ch0000002?line=2'>3</a>\u001b[0m \u001b[39mfrom\u001b[39;00m \u001b[39msklearn\u001b[39;00m\u001b[39m.\u001b[39;00m\u001b[39mmodel_selection\u001b[39;00m \u001b[39mimport\u001b[39;00m train_test_split\n\u001b[1;32m----> <a href='vscode-notebook-cell:/c%3A/Users/yuha%20bach/Downloads/PLDS_Team_E/Notebook/read_data.ipynb#ch0000002?line=3'>4</a>\u001b[0m \u001b[39mfrom\u001b[39;00m \u001b[39mutils\u001b[39;00m \u001b[39mimport\u001b[39;00m read_yaml\n\u001b[0;32m      <a href='vscode-notebook-cell:/c%3A/Users/yuha%20bach/Downloads/PLDS_Team_E/Notebook/read_data.ipynb#ch0000002?line=5'>6</a>\u001b[0m LOAD_SPLIT_CONFIG_PATH \u001b[39m=\u001b[39m \u001b[39m\"\u001b[39m\u001b[39m../config/load_split_config.yaml\u001b[39m\u001b[39m\"\u001b[39m\n\u001b[0;32m      <a href='vscode-notebook-cell:/c%3A/Users/yuha%20bach/Downloads/PLDS_Team_E/Notebook/read_data.ipynb#ch0000002?line=7'>8</a>\u001b[0m \u001b[39mdef\u001b[39;00m \u001b[39mget_stratify_col\u001b[39m(y, stratify_col):\n",
      "\u001b[1;31mModuleNotFoundError\u001b[0m: No module named 'utils'"
     ]
    }
   ],
   "source": [
    "import pandas as pd\n",
    "import joblib\n",
    "from sklearn.model_selection import train_test_split\n",
    "from utils import read_yaml\n",
    "\n",
    "LOAD_SPLIT_CONFIG_PATH = \"../config/load_split_config.yaml\"\n",
    "\n",
    "def get_stratify_col(y, stratify_col):\n",
    "    if stratify_col is None:\n",
    "        stratification = None\n",
    "    else:\n",
    "        stratification = y[stratify_col]\n",
    "    \n",
    "    return stratification\n",
    "\n",
    "def split_in_out_put(df,\n",
    "                    target_column,\n",
    "                    set_index = None):\n",
    "\n",
    "    #rename the target name\n",
    "    df = df.rename(columns={'default.payment.next.month': 'TARGET'})\n",
    "\n",
    "    #create input(all of x) and output(all of y)\n",
    "    output_df = df[target_column].reset_index(drop=True)\n",
    "    input_df = df.drop([target_column], axis = 1)\n",
    "    \n",
    "    return output_df, input_df\n",
    "\n",
    "def run_split_data(x, y,\n",
    "                    stratify_col=None,\n",
    "                    TEST_SIZE=0.2\n",
    "                    ):\n",
    "    \n",
    "    strat_train = get_stratify_col(y, stratify_col)\n",
    "    x_train, x_test, y_train, y_test = train_test_split(x, y,\n",
    "                                       stratify = strat_train,\n",
    "                                       test_size= TEST_SIZE*2,\n",
    "                                       random_state= 42)\n",
    "    \n",
    "    strat_test = get_stratify_col(y_test, stratify_col)\n",
    "    x_valid, x_test, y_valid, y_test = train_test_split(x_test, y_test,\n",
    "                                       stratify = strat_test,\n",
    "                                       test_size= 0.5,\n",
    "                                       random_state= 42)\n",
    "\n",
    "    return x_train, y_train, x_valid, y_valid, x_test, y_test\n",
    "\n",
    "def main_read(params):\n",
    "    df = pd.read_csv(params['file_loc'])\n",
    "    output_df, input_df = split_in_out_put(df, target_column=params['target'], set_index='ID')\n",
    "    x_train, y_train,x_valid, y_valid,x_test, y_test = run_split_data(input_df, output_df, \n",
    "                                                                      params['stratify'], \n",
    "                                                                      params['test_size'])\n",
    "\n",
    "    joblib.dump(x_train, params[\"out_path\"]+\"x_train.pkl\")\n",
    "    joblib.dump(y_train, params[\"out_path\"]+\"y_train.pkl\")\n",
    "    joblib.dump(x_valid, params[\"out_path\"]+\"x_valid.pkl\")\n",
    "    joblib.dump(y_valid, params[\"out_path\"]+\"y_valid.pkl\")\n",
    "    joblib.dump(x_test, params[\"out_path\"]+\"x_test.pkl\")\n",
    "    joblib.dump(y_test, params[\"out_path\"]+\"y_test.pkl\")\n",
    "\n",
    "    return x_train, y_train, x_valid, y_valid, x_test, y_test\n",
    "\n",
    "if __name__ == \"__main__\":\n",
    "    params = read_yaml(LOAD_SPLIT_CONFIG_PATH)\n",
    "    x_train, y_train, x_valid, y_valid, x_test, y_test = main_read(params)"
   ]
  },
  {
   "cell_type": "code",
   "execution_count": 5,
   "metadata": {},
   "outputs": [],
   "source": [
    "PATH = 'data/UCI_Credit_Card.csv'\n",
    "output_df, input_df = read_data(PATH, target_column='TARGET', set_index='ID')\n",
    "x_train, y_train, x_valid, y_valid, x_test, y_test = run_split_data(input_df, output_df)"
   ]
  },
  {
   "cell_type": "code",
   "execution_count": 4,
   "metadata": {},
   "outputs": [
    {
     "name": "stdout",
     "output_type": "stream",
     "text": [
      "(18000, 23)\n",
      "(18000,)\n",
      "(6000, 23)\n",
      "(6000,)\n",
      "(6000, 23)\n",
      "(6000,)\n"
     ]
    }
   ],
   "source": [
    "print(x_train.shape)\n",
    "print(y_train.shape)\n",
    "print(x_valid.shape)\n",
    "print(y_valid.shape)\n",
    "print(x_test.shape)\n",
    "print(y_test.shape)"
   ]
  },
  {
   "cell_type": "code",
   "execution_count": 22,
   "metadata": {},
   "outputs": [
    {
     "ename": "ModuleNotFoundError",
     "evalue": "No module named 'utils'",
     "output_type": "error",
     "traceback": [
      "\u001b[1;31m---------------------------------------------------------------------------\u001b[0m",
      "\u001b[1;31mModuleNotFoundError\u001b[0m                       Traceback (most recent call last)",
      "\u001b[1;32mc:\\Users\\yuha bach\\Downloads\\PLDS_Team_E\\Notebook\\read_data.ipynb Cell 4'\u001b[0m in \u001b[0;36m<cell line: 1>\u001b[1;34m()\u001b[0m\n\u001b[1;32m----> <a href='vscode-notebook-cell:/c%3A/Users/yuha%20bach/Downloads/PLDS_Team_E/Notebook/read_data.ipynb#ch0000004?line=0'>1</a>\u001b[0m \u001b[39mfrom\u001b[39;00m \u001b[39mutils\u001b[39;00m \u001b[39mimport\u001b[39;00m read_yaml\n",
      "\u001b[1;31mModuleNotFoundError\u001b[0m: No module named 'utils'"
     ]
    }
   ],
   "source": [
    "from utils import read_yaml"
   ]
  },
  {
   "cell_type": "code",
   "execution_count": 8,
   "metadata": {},
   "outputs": [
    {
     "name": "stdout",
     "output_type": "stream",
     "text": [
      "Object `utils` not found.\n"
     ]
    }
   ],
   "source": [
    "utils?"
   ]
  },
  {
   "cell_type": "code",
   "execution_count": null,
   "metadata": {},
   "outputs": [],
   "source": []
  }
 ],
 "metadata": {
  "kernelspec": {
   "display_name": "Python 3.8.10 64-bit (windows store)",
   "language": "python",
   "name": "python3"
  },
  "language_info": {
   "codemirror_mode": {
    "name": "ipython",
    "version": 3
   },
   "file_extension": ".py",
   "mimetype": "text/x-python",
   "name": "python",
   "nbconvert_exporter": "python",
   "pygments_lexer": "ipython3",
   "version": "3.8.10"
  },
  "orig_nbformat": 4,
  "vscode": {
   "interpreter": {
    "hash": "49de8e361bcaa7b87b0d9a1948e17b94b1b6765468a847b75af4a4273d6c7723"
   }
  }
 },
 "nbformat": 4,
 "nbformat_minor": 2
}
