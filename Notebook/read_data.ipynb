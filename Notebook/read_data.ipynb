{
 "cells": [
  {
   "cell_type": "code",
   "execution_count": 1,
   "metadata": {},
   "outputs": [],
   "source": [
    "import pandas as pd\n",
    "import joblib\n",
    "from sklearn.model_selection import train_test_split"
   ]
  },
  {
   "cell_type": "code",
   "execution_count": 2,
   "metadata": {},
   "outputs": [],
   "source": [
    "def get_stratify_col(y, stratify_col):\n",
    "    if stratify_col is None:\n",
    "        stratification = None\n",
    "    else:\n",
    "        stratification = y[stratify_col]\n",
    "    \n",
    "    return stratification\n",
    "\n",
    "def read_data(path,\n",
    "            target_column,\n",
    "            set_index = None):\n",
    "\n",
    "    df_default = pd.read_csv(path, index_col = set_index)\n",
    "    #rename the target name\n",
    "    df_default = df_default.rename(columns={'default.payment.next.month': 'TARGET'})\n",
    "\n",
    "    #create input(all of x) and output(all of y)\n",
    "    output_df = df_default[target_column].reset_index(drop=True)\n",
    "    input_df = df_default.drop([target_column], axis = 1)\n",
    "    \n",
    "    return output_df, input_df\n",
    "\n",
    "def run_split_data(x, y,\n",
    "                    stratify_col=None,\n",
    "                    TEST_SIZE=0.2,\n",
    "                    save_file = True,\n",
    "                    return_file = True):\n",
    "    \n",
    "    strat_train = get_stratify_col(y, stratify_col)\n",
    "    x_train, x_test, y_train, y_test = train_test_split(x, y,\n",
    "                                       stratify = strat_train,\n",
    "                                       test_size= TEST_SIZE*2,\n",
    "                                       random_state= 42)\n",
    "    \n",
    "    strat_test = get_stratify_col(y_test, stratify_col)\n",
    "    x_valid, x_test, y_valid, y_test = train_test_split(x_test, y_test,\n",
    "                                       stratify = strat_test,\n",
    "                                       test_size= 0.5,\n",
    "                                       random_state= 42)\n",
    "\n",
    "    if save_file:\n",
    "        joblib.dump(x_train, \"output/x_train.pkl\")\n",
    "        joblib.dump(y_train, \"output/y_train.pkl\")\n",
    "        joblib.dump(x_valid, \"output/x_valid.pkl\")\n",
    "        joblib.dump(y_valid, \"output/y_valid.pkl\")\n",
    "        joblib.dump(x_test, \"output/x_test.pkl\")\n",
    "        joblib.dump(y_test, \"output/y_test.pkl\")\n",
    "        \n",
    "    if return_file:\n",
    "        return x_train, y_train, x_valid, y_valid, x_test, y_test"
   ]
  },
  {
   "cell_type": "code",
   "execution_count": 5,
   "metadata": {},
   "outputs": [],
   "source": [
    "PATH = 'data/UCI_Credit_Card.csv'\n",
    "output_df, input_df = read_data(PATH, target_column='TARGET', set_index='ID')\n",
    "x_train, y_train, x_valid, y_valid, x_test, y_test = run_split_data(input_df, output_df)"
   ]
  },
  {
   "cell_type": "code",
   "execution_count": 4,
   "metadata": {},
   "outputs": [
    {
     "name": "stdout",
     "output_type": "stream",
     "text": [
      "(18000, 23)\n",
      "(18000,)\n",
      "(6000, 23)\n",
      "(6000,)\n",
      "(6000, 23)\n",
      "(6000,)\n"
     ]
    }
   ],
   "source": [
    "print(x_train.shape)\n",
    "print(y_train.shape)\n",
    "print(x_valid.shape)\n",
    "print(y_valid.shape)\n",
    "print(x_test.shape)\n",
    "print(y_test.shape)"
   ]
  },
  {
   "cell_type": "code",
   "execution_count": null,
   "metadata": {},
   "outputs": [],
   "source": []
  }
 ],
 "metadata": {
  "kernelspec": {
   "display_name": "Python 3.8.10 64-bit (windows store)",
   "language": "python",
   "name": "python3"
  },
  "language_info": {
   "codemirror_mode": {
    "name": "ipython",
    "version": 3
   },
   "file_extension": ".py",
   "mimetype": "text/x-python",
   "name": "python",
   "nbconvert_exporter": "python",
   "pygments_lexer": "ipython3",
   "version": "3.8.10"
  },
  "orig_nbformat": 4,
  "vscode": {
   "interpreter": {
    "hash": "49de8e361bcaa7b87b0d9a1948e17b94b1b6765468a847b75af4a4273d6c7723"
   }
  }
 },
 "nbformat": 4,
 "nbformat_minor": 2
}
