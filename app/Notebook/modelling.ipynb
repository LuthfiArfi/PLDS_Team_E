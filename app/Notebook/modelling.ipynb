{
 "cells": [
  {
   "cell_type": "code",
   "execution_count": 1,
   "metadata": {},
   "outputs": [],
   "source": [
    "import numpy as np\n",
    "import pandas as pd\n",
    "from tqdm import tqdm\n",
    "import joblib\n",
    "import time\n",
    "from sklearn.model_selection import RandomizedSearchCV\n",
    "from sklearn.linear_model import LogisticRegression\n",
    "from sklearn.ensemble import RandomForestClassifier\n",
    "from sklearn.metrics import classification_report, roc_auc_score, f1_score, make_scorer\n",
    "tqdm.pandas()\n",
    "from utils import read_yaml\n",
    "MODELING_CONFIG_PATH = \"../config/modeling_config.yaml\"\n",
    "\n",
    "def load_fed_data():\n",
    "    \"\"\"\n",
    "    Loader for feature engineered data.\n",
    "    Args:\n",
    "    - params(dict): modeling params.\n",
    "    Returns:\n",
    "    - x_train(DataFrame): inputs of train set.\n",
    "    - y_train(DataFrame): target of train set.\n",
    "    - x_valid(DataFrame): inputs of valid set.\n",
    "    - y_valid(DataFrame): terget of valid set.\n",
    "    \"\"\"\n",
    "\n",
    "    x_train_path = \"../output/x_train_normalized.pkl\"\n",
    "    y_train_path = \"../output/y_train.pkl\"\n",
    "    x_valid_path = \"../output/x_valid_normalized.pkl\"\n",
    "    y_valid_path = \"../output/y_valid.pkl\"\n",
    "    x_train = joblib.load(x_train_path)\n",
    "    y_train = joblib.load(y_train_path)\n",
    "    x_valid = joblib.load(x_valid_path)\n",
    "    y_valid = joblib.load(y_valid_path)\n",
    "    return x_train, y_train, x_valid, y_valid"
   ]
  },
  {
   "cell_type": "code",
   "execution_count": 6,
   "metadata": {},
   "outputs": [],
   "source": [
    "x_train, y_train, x_valid, y_valid = load_fed_data()"
   ]
  },
  {
   "cell_type": "code",
   "execution_count": 3,
   "metadata": {},
   "outputs": [],
   "source": [
    "def model():\n",
    "    \"\"\"\n",
    "    Function for initiating Random Forest Model\n",
    "    \"\"\"\n",
    "    base_model = RandomForestClassifier(random_state=42, n_jobs=-1)\n",
    "    param_dist = {'n_estimators' : [25, 50, 100]}\n",
    "\n",
    "    return base_model, param_dist\n",
    "\n",
    "def random_search_cv(model, param, scoring, n_iter, x, y, verbosity=0):\n",
    "    \"\"\"\n",
    "    Just a function to run the hyperparameter search\n",
    "    \"\"\"\n",
    "    random_fit = RandomizedSearchCV(estimator = model, \n",
    "                                    param_distributions = param, \n",
    "                                    scoring = scoring, \n",
    "                                    n_iter = n_iter, \n",
    "                                    cv = 5, \n",
    "                                    random_state = 42, \n",
    "                                    verbose = verbosity)\n",
    "    random_fit.fit(x, y)\n",
    "    return random_fit\n",
    "\n",
    "def classif_report(model_obj, x_test, y_test):\n",
    "    code2rel = {'0': 'Non-default', '1': 'default'}\n",
    "    \n",
    "    pred = model_obj.predict(x_test)\n",
    "\n",
    "    res = classification_report(\n",
    "        y_test, pred, output_dict=True, zero_division=0)\n",
    "    res = pd.DataFrame(res).rename(columns=code2rel).T\n",
    "\n",
    "    return pred, res\n",
    "\n",
    "def fit(x_train, y_train, model, model_param, scoring='f1', n_iter=3, verbosity=3):\n",
    "    \"\"\"\n",
    "    Fit model\n",
    "    \n",
    "    Args:\n",
    "        - model(callable): sklearn model\n",
    "        - model_param(dict): sklearn's RandomizedSearchCV params_distribution\n",
    "    \n",
    "    Return:\n",
    "        - model_fitted(callable): model with optimum hyperparams\n",
    "    \"\"\"\n",
    "    model_fitted = random_search_cv(model, model_param, \n",
    "                                    scoring, \n",
    "                                    n_iter, \n",
    "                                    x_train, y_train, \n",
    "                                    verbosity)\n",
    "    print(\n",
    "        f'Model: {model_fitted.best_estimator_}, {scoring}: {model_fitted.best_score_}')\n",
    "    \n",
    "    return model_fitted\n",
    "\n",
    "def validate(x_valid, y_valid, model_fitted):\n",
    "    pred_model, report_model = classif_report(model_fitted, x_valid, y_valid)\n",
    "    return report_model, model_fitted"
   ]
  },
  {
   "cell_type": "code",
   "execution_count": null,
   "metadata": {},
   "outputs": [],
   "source": [
    "def main():\n",
    "        param_model, base_model = model()\n",
    "        scoring = make_scorer(f1_score,average='macro')\n",
    "        fitted_model = fit(x_train, y_train, base_model, param_model, scoring=scoring, verbosity=0)\n",
    "        report, fitted_model, best_threshold = validate(x_valid, y_valid, fitted_model)"
   ]
  }
 ],
 "metadata": {
  "kernelspec": {
   "display_name": "Python 3.8.10 64-bit (windows store)",
   "language": "python",
   "name": "python3"
  },
  "language_info": {
   "codemirror_mode": {
    "name": "ipython",
    "version": 3
   },
   "file_extension": ".py",
   "mimetype": "text/x-python",
   "name": "python",
   "nbconvert_exporter": "python",
   "pygments_lexer": "ipython3",
   "version": "3.8.10"
  },
  "orig_nbformat": 4,
  "vscode": {
   "interpreter": {
    "hash": "49de8e361bcaa7b87b0d9a1948e17b94b1b6765468a847b75af4a4273d6c7723"
   }
  }
 },
 "nbformat": 4,
 "nbformat_minor": 2
}
