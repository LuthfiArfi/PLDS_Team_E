{
 "cells": [
  {
   "cell_type": "code",
   "execution_count": 1,
   "metadata": {},
   "outputs": [
    {
     "name": "stderr",
     "output_type": "stream",
     "text": [
      "100%|██████████| 3/3 [00:00<00:00, 53.48it/s]\n",
      "3it [00:00, 70.91it/s]\n"
     ]
    }
   ],
   "source": [
    "import pandas as pd\n",
    "import joblib\n",
    "from tqdm import tqdm\n",
    "\n",
    "from utils import read_yaml\n",
    "\n",
    "FEATURE_CONFIG_PATH = \"../config/feature_config.yaml\"\n",
    "\n",
    "def load_split_data(params):\n",
    "    \"\"\"\n",
    "    Loader for splitted data.\n",
    "    \n",
    "    Args:\n",
    "    - params(dict): featuring engineering params.\n",
    "    \n",
    "    Returns:\n",
    "    - x_train(DataFrame): inputs of train set.\n",
    "    - x_valid(DataFrame): inputs of valid set.\n",
    "    - x_test(DataFrame): inputs of test set.\n",
    "    \"\"\"\n",
    "\n",
    "    x_train = joblib.load(params[\"out_path\"]+\"x_train.pkl\")\n",
    "    x_valid = joblib.load(params[\"out_path\"]+\"x_valid.pkl\")\n",
    "    x_test = joblib.load(params[\"out_path\"]+\"x_test.pkl\")\n",
    "\n",
    "    return x_train, x_valid, x_test\n",
    "\n",
    "def age_bin(df):\n",
    "    df['AgeBin'] = pd.cut(df['AGE'],[20, 25, 30, 35, 40, 50, 60, 80], labels=[0,1,2,3,4,5,6])\n",
    "    return df\n",
    "\n",
    "def compile_value(df):    \n",
    "    # compile the others value (5,6,0) in education to 1 other (4) value\n",
    "    col_edit = (df.EDUCATION == 5) | (df.EDUCATION == 6) | (df.EDUCATION == 0)\n",
    "    df.loc[col_edit, 'EDUCATION'] = 4\n",
    "    # 0 value in marriage also other, so we put in value 3 also\n",
    "    df.loc[df.MARRIAGE == 0, 'MARRIAGE'] = 3\n",
    "    return df\n",
    "\n",
    "def closeness(df):\n",
    "    df['Closeness_6'] = (df.LIMIT_BAL - df.BILL_AMT6) / df.LIMIT_BAL\n",
    "    df['Closeness_5'] = (df.LIMIT_BAL - df.BILL_AMT5) / df.LIMIT_BAL\n",
    "    df['Closeness_4'] = (df.LIMIT_BAL - df.BILL_AMT4) / df.LIMIT_BAL\n",
    "    df['Closeness_3'] = (df.LIMIT_BAL - df.BILL_AMT3) / df.LIMIT_BAL\n",
    "    df['Closeness_2'] = (df.LIMIT_BAL - df.BILL_AMT2) / df.LIMIT_BAL\n",
    "    df['Closeness_1'] = (df.LIMIT_BAL - df.BILL_AMT1) / df.LIMIT_BAL\n",
    "    return df\n",
    "\n",
    "def create_feat(df):\n",
    "    df = age_bin(df)\n",
    "    df = compile_value(df)\n",
    "    df = closeness(df)\n",
    "    return df\n",
    "\n",
    "def main_feat(x_train,x_valid,x_test, params):\n",
    "    x_list = [x_train,x_valid,x_test]\n",
    "\n",
    "    x_featured = []\n",
    "    for x in tqdm(x_list):\n",
    "        temp = create_feat(x)\n",
    "        x_featured.append(temp)\n",
    "\n",
    "    name = ['train','valid','test']\n",
    "    for i,x in tqdm(enumerate(x_featured)):\n",
    "        joblib.dump(x, f\"{params['out_path']}x_{name[i]}_preprocessed_v1.pkl\")\n",
    "\n",
    "if __name__ == \"__main__\":\n",
    "    params_feature = read_yaml(FEATURE_CONFIG_PATH)\n",
    "    x_train, x_valid, x_test = load_split_data(params_feature)\n",
    "    x_preprocessed_list = main_feat(x_train, x_valid, x_test, params_feature)\n"
   ]
  }
 ],
 "metadata": {
  "kernelspec": {
   "display_name": "Python 3.8.10 64-bit (windows store)",
   "language": "python",
   "name": "python3"
  },
  "language_info": {
   "codemirror_mode": {
    "name": "ipython",
    "version": 3
   },
   "file_extension": ".py",
   "mimetype": "text/x-python",
   "name": "python",
   "nbconvert_exporter": "python",
   "pygments_lexer": "ipython3",
   "version": "3.8.10"
  },
  "orig_nbformat": 4,
  "vscode": {
   "interpreter": {
    "hash": "49de8e361bcaa7b87b0d9a1948e17b94b1b6765468a847b75af4a4273d6c7723"
   }
  }
 },
 "nbformat": 4,
 "nbformat_minor": 2
}
