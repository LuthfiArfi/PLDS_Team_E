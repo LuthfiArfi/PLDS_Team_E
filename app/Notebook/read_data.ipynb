{
 "cells": [
  {
   "cell_type": "code",
   "execution_count": 3,
   "metadata": {},
   "outputs": [],
   "source": [
    "import pandas as pd\n",
    "import joblib\n",
    "from sklearn.model_selection import train_test_split\n",
    "from utils import read_yaml\n",
    "\n",
    "LOAD_SPLIT_CONFIG_PATH = \"../config/read_data_config.yaml\"\n",
    "\n",
    "def get_stratify_col(y, stratify_col):\n",
    "    if stratify_col is None:\n",
    "        stratification = None\n",
    "    else:\n",
    "        stratification = y[stratify_col]\n",
    "    \n",
    "    return stratification\n",
    "\n",
    "def split_in_out_put(df,\n",
    "                    target_column,\n",
    "                    set_index = None):\n",
    "\n",
    "    #rename the target name\n",
    "    df = df.rename(columns={'default.payment.next.month': 'TARGET'})\n",
    "\n",
    "    #create input(all of x) and output(all of y)\n",
    "    y = df[params['y_col']]\n",
    "    x = df.drop([target_column], axis = 1)\n",
    "    \n",
    "    return y, x\n",
    "\n",
    "def run_split_data(x, y,\n",
    "                    stratify_col=None,\n",
    "                    TEST_SIZE=0.2\n",
    "                    ):\n",
    "    \n",
    "    strat_train = get_stratify_col(y, stratify_col)\n",
    "    x_train, x_test, y_train, y_test = train_test_split(x, y,\n",
    "                                       stratify = strat_train,\n",
    "                                       test_size= TEST_SIZE*2,\n",
    "                                       random_state= 42)\n",
    "    \n",
    "    strat_test = get_stratify_col(y_test, stratify_col)\n",
    "    x_valid, x_test, y_valid, y_test = train_test_split(x_test, y_test,\n",
    "                                       stratify = strat_test,\n",
    "                                       test_size= 0.5,\n",
    "                                       random_state= 42)\n",
    "\n",
    "    return x_train, y_train, x_valid, y_valid, x_test, y_test\n",
    "\n",
    "def main_read(params):\n",
    "    df = pd.read_csv(params['file_loc'])\n",
    "    y, x = split_in_out_put(df, target_column=params['target'], set_index='ID')\n",
    "    x_train, y_train,x_valid, y_valid,x_test, y_test = run_split_data(x, y, \n",
    "                                                                      params['stratify'],\n",
    "                                                                      params['test_size'])\n",
    "\n",
    "    joblib.dump(x_train, params[\"out_path\"]+\"x_train.pkl\")\n",
    "    joblib.dump(y_train, params[\"out_path\"]+\"y_train.pkl\")\n",
    "    joblib.dump(x_valid, params[\"out_path\"]+\"x_valid.pkl\")\n",
    "    joblib.dump(y_valid, params[\"out_path\"]+\"y_valid.pkl\")\n",
    "    joblib.dump(x_test, params[\"out_path\"]+\"x_test.pkl\")\n",
    "    joblib.dump(y_test, params[\"out_path\"]+\"y_test.pkl\")\n",
    "\n",
    "    return x_train, y_train, x_valid, y_valid, x_test, y_test\n",
    "\n",
    "if __name__ == \"__main__\":\n",
    "    params = read_yaml(LOAD_SPLIT_CONFIG_PATH)\n",
    "    x_train, y_train, x_valid, y_valid, x_test, y_test = main_read(params)"
   ]
  }
 ],
 "metadata": {
  "kernelspec": {
   "display_name": "Python 3.8.10 64-bit (windows store)",
   "language": "python",
   "name": "python3"
  },
  "language_info": {
   "codemirror_mode": {
    "name": "ipython",
    "version": 3
   },
   "file_extension": ".py",
   "mimetype": "text/x-python",
   "name": "python",
   "nbconvert_exporter": "python",
   "pygments_lexer": "ipython3",
   "version": "3.8.10"
  },
  "orig_nbformat": 4,
  "vscode": {
   "interpreter": {
    "hash": "49de8e361bcaa7b87b0d9a1948e17b94b1b6765468a847b75af4a4273d6c7723"
   }
  }
 },
 "nbformat": 4,
 "nbformat_minor": 2
}
