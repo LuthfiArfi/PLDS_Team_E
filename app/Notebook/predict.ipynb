{
 "cells": [
  {
   "cell_type": "code",
   "execution_count": 19,
   "metadata": {},
   "outputs": [
    {
     "name": "stdout",
     "output_type": "stream",
     "text": [
      "Non Deafult\n"
     ]
    }
   ],
   "source": [
    "import joblib\n",
    "import pandas as pd\n",
    "import numpy as np\n",
    "from preprocessing import preprocessing, one_hot_encoder\n",
    "from feature_engineering import create_feat\n",
    "\n",
    "from utils import read_yaml\n",
    "\n",
    "PREPROCESSING_CONFIG_PATH = \"../config/preprocessing_config.yaml\"\n",
    "PREDICT_CONFIG_PATH = \"../config/predict_config.yaml\"\n",
    "\n",
    "params_prep = read_yaml(PREPROCESSING_CONFIG_PATH)\n",
    "params = read_yaml(PREDICT_CONFIG_PATH)\n",
    "\n",
    "normalizer = joblib.load(\"../output/normalizer.pkl\")\n",
    "ohe = joblib.load(\"../output/onehotencoder.pkl\")\n",
    "model = joblib.load('../output/model_name.pkl')\n",
    "estimator = joblib.load('../output/best_estimator.pkl')\n",
    "\n",
    "def construct(test_predict, params_prep):    \n",
    "    df_test = pd.DataFrame(test_predict).astype(int)\n",
    "    feat = create_feat(df_test)\n",
    "    df_normalizer = preprocessing(feat, params_prep, state=normalizer)[0]\n",
    "    df_ohe = ohe.transform(feat[['SEX', 'MARRIAGE']])\n",
    "    col = ohe.get_feature_names_out()\n",
    "    df_ohe = pd.DataFrame(df_ohe, columns=col)\n",
    "    result = pd.merge(df_ohe, df_normalizer, how=\"left\")\n",
    "    return result\n",
    "\n",
    "def main_predict(prediksian):\n",
    "    to_predict_model = model.predict(prediksian) #sek salah\n",
    "    if to_predict_model == [0]:\n",
    "        print(\"Non Deafult\")\n",
    "    else:\n",
    "        print(\"Default\")\n",
    "\n",
    "if __name__ == \"__main__\":\n",
    "    n_data = int(input(f\"Input data (enter int value): \"))\n",
    "    data_predict = {}\n",
    "    for i in range(n_data):\n",
    "        for i in params[\"x_col\"]:\n",
    "            if i in data_predict:\n",
    "                data_predict[i].append(input(f\"Input {i}: \"))\n",
    "            else:\n",
    "                data_predict[i] = [input(f\"Input {i}: \")]\n",
    "    to_pred = construct(data_predict, params_prep)\n",
    "    main_predict(to_pred)"
   ]
  }
 ],
 "metadata": {
  "kernelspec": {
   "display_name": "Python 3.8.10 64-bit (windows store)",
   "language": "python",
   "name": "python3"
  },
  "language_info": {
   "codemirror_mode": {
    "name": "ipython",
    "version": 3
   },
   "file_extension": ".py",
   "mimetype": "text/x-python",
   "name": "python",
   "nbconvert_exporter": "python",
   "pygments_lexer": "ipython3",
   "version": "3.8.10"
  },
  "orig_nbformat": 4,
  "vscode": {
   "interpreter": {
    "hash": "49de8e361bcaa7b87b0d9a1948e17b94b1b6765468a847b75af4a4273d6c7723"
   }
  }
 },
 "nbformat": 4,
 "nbformat_minor": 2
}
