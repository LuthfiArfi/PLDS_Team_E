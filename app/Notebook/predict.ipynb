{
 "cells": [
  {
   "cell_type": "code",
   "execution_count": 24,
   "metadata": {},
   "outputs": [
    {
     "name": "stderr",
     "output_type": "stream",
     "text": [
      "C:\\Users\\yuha bach\\AppData\\Local\\Packages\\PythonSoftwareFoundation.Python.3.8_qbz5n2kfra8p0\\LocalCache\\local-packages\\Python38\\site-packages\\sklearn\\base.py:493: FutureWarning: The feature names should match those that were passed during fit. Starting version 1.2, an error will be raised.\n",
      "Feature names seen at fit time, yet now missing:\n",
      "- MARRIAGE_2\n",
      "- MARRIAGE_3\n",
      "- SEX_2\n",
      "\n",
      "  warnings.warn(message, FutureWarning)\n"
     ]
    },
    {
     "ename": "ValueError",
     "evalue": "X has 30 features, but MLPClassifier is expecting 33 features as input.",
     "output_type": "error",
     "traceback": [
      "\u001b[1;31m---------------------------------------------------------------------------\u001b[0m",
      "\u001b[1;31mValueError\u001b[0m                                Traceback (most recent call last)",
      "\u001b[1;32mc:\\Users\\yuha bach\\Downloads\\PLDS_Team_E\\app\\Notebook\\predict.ipynb Cell 1\u001b[0m in \u001b[0;36m<cell line: 37>\u001b[1;34m()\u001b[0m\n\u001b[0;32m     <a href='vscode-notebook-cell:/c%3A/Users/yuha%20bach/Downloads/PLDS_Team_E/app/Notebook/predict.ipynb#ch0000000?line=44'>45</a>\u001b[0m             data_predict[i] \u001b[39m=\u001b[39m [\u001b[39minput\u001b[39m(\u001b[39mf\u001b[39m\u001b[39m\"\u001b[39m\u001b[39mInput \u001b[39m\u001b[39m{\u001b[39;00mi\u001b[39m}\u001b[39;00m\u001b[39m: \u001b[39m\u001b[39m\"\u001b[39m)]\n\u001b[0;32m     <a href='vscode-notebook-cell:/c%3A/Users/yuha%20bach/Downloads/PLDS_Team_E/app/Notebook/predict.ipynb#ch0000000?line=45'>46</a>\u001b[0m to_pred \u001b[39m=\u001b[39m construct(data_predict, params_prep)\n\u001b[1;32m---> <a href='vscode-notebook-cell:/c%3A/Users/yuha%20bach/Downloads/PLDS_Team_E/app/Notebook/predict.ipynb#ch0000000?line=46'>47</a>\u001b[0m main_predict(to_pred)\n",
      "\u001b[1;32mc:\\Users\\yuha bach\\Downloads\\PLDS_Team_E\\app\\Notebook\\predict.ipynb Cell 1\u001b[0m in \u001b[0;36mmain_predict\u001b[1;34m(prediksian)\u001b[0m\n\u001b[0;32m     <a href='vscode-notebook-cell:/c%3A/Users/yuha%20bach/Downloads/PLDS_Team_E/app/Notebook/predict.ipynb#ch0000000?line=29'>30</a>\u001b[0m \u001b[39mdef\u001b[39;00m \u001b[39mmain_predict\u001b[39m(prediksian):\n\u001b[1;32m---> <a href='vscode-notebook-cell:/c%3A/Users/yuha%20bach/Downloads/PLDS_Team_E/app/Notebook/predict.ipynb#ch0000000?line=30'>31</a>\u001b[0m     to_predict_model \u001b[39m=\u001b[39m model\u001b[39m.\u001b[39;49mpredict(prediksian) \u001b[39m#sek salah\u001b[39;00m\n\u001b[0;32m     <a href='vscode-notebook-cell:/c%3A/Users/yuha%20bach/Downloads/PLDS_Team_E/app/Notebook/predict.ipynb#ch0000000?line=31'>32</a>\u001b[0m     \u001b[39mif\u001b[39;00m to_predict_model \u001b[39m==\u001b[39m [\u001b[39m0\u001b[39m]:\n\u001b[0;32m     <a href='vscode-notebook-cell:/c%3A/Users/yuha%20bach/Downloads/PLDS_Team_E/app/Notebook/predict.ipynb#ch0000000?line=32'>33</a>\u001b[0m         \u001b[39mprint\u001b[39m(\u001b[39m\"\u001b[39m\u001b[39mNon Deafult\u001b[39m\u001b[39m\"\u001b[39m)\n",
      "File \u001b[1;32m~\\AppData\\Local\\Packages\\PythonSoftwareFoundation.Python.3.8_qbz5n2kfra8p0\\LocalCache\\local-packages\\Python38\\site-packages\\sklearn\\neural_network\\_multilayer_perceptron.py:1167\u001b[0m, in \u001b[0;36mMLPClassifier.predict\u001b[1;34m(self, X)\u001b[0m\n\u001b[0;32m   1154\u001b[0m \u001b[39m\"\"\"Predict using the multi-layer perceptron classifier.\u001b[39;00m\n\u001b[0;32m   1155\u001b[0m \n\u001b[0;32m   1156\u001b[0m \u001b[39mParameters\u001b[39;00m\n\u001b[1;32m   (...)\u001b[0m\n\u001b[0;32m   1164\u001b[0m \u001b[39m    The predicted classes.\u001b[39;00m\n\u001b[0;32m   1165\u001b[0m \u001b[39m\"\"\"\u001b[39;00m\n\u001b[0;32m   1166\u001b[0m check_is_fitted(\u001b[39mself\u001b[39m)\n\u001b[1;32m-> 1167\u001b[0m y_pred \u001b[39m=\u001b[39m \u001b[39mself\u001b[39;49m\u001b[39m.\u001b[39;49m_forward_pass_fast(X)\n\u001b[0;32m   1169\u001b[0m \u001b[39mif\u001b[39;00m \u001b[39mself\u001b[39m\u001b[39m.\u001b[39mn_outputs_ \u001b[39m==\u001b[39m \u001b[39m1\u001b[39m:\n\u001b[0;32m   1170\u001b[0m     y_pred \u001b[39m=\u001b[39m y_pred\u001b[39m.\u001b[39mravel()\n",
      "File \u001b[1;32m~\\AppData\\Local\\Packages\\PythonSoftwareFoundation.Python.3.8_qbz5n2kfra8p0\\LocalCache\\local-packages\\Python38\\site-packages\\sklearn\\neural_network\\_multilayer_perceptron.py:159\u001b[0m, in \u001b[0;36mBaseMultilayerPerceptron._forward_pass_fast\u001b[1;34m(self, X)\u001b[0m\n\u001b[0;32m    143\u001b[0m \u001b[39mdef\u001b[39;00m \u001b[39m_forward_pass_fast\u001b[39m(\u001b[39mself\u001b[39m, X):\n\u001b[0;32m    144\u001b[0m     \u001b[39m\"\"\"Predict using the trained model\u001b[39;00m\n\u001b[0;32m    145\u001b[0m \n\u001b[0;32m    146\u001b[0m \u001b[39m    This is the same as _forward_pass but does not record the activations\u001b[39;00m\n\u001b[1;32m   (...)\u001b[0m\n\u001b[0;32m    157\u001b[0m \u001b[39m        The decision function of the samples for each class in the model.\u001b[39;00m\n\u001b[0;32m    158\u001b[0m \u001b[39m    \"\"\"\u001b[39;00m\n\u001b[1;32m--> 159\u001b[0m     X \u001b[39m=\u001b[39m \u001b[39mself\u001b[39;49m\u001b[39m.\u001b[39;49m_validate_data(X, accept_sparse\u001b[39m=\u001b[39;49m[\u001b[39m\"\u001b[39;49m\u001b[39mcsr\u001b[39;49m\u001b[39m\"\u001b[39;49m, \u001b[39m\"\u001b[39;49m\u001b[39mcsc\u001b[39;49m\u001b[39m\"\u001b[39;49m], reset\u001b[39m=\u001b[39;49m\u001b[39mFalse\u001b[39;49;00m)\n\u001b[0;32m    161\u001b[0m     \u001b[39m# Initialize first layer\u001b[39;00m\n\u001b[0;32m    162\u001b[0m     activation \u001b[39m=\u001b[39m X\n",
      "File \u001b[1;32m~\\AppData\\Local\\Packages\\PythonSoftwareFoundation.Python.3.8_qbz5n2kfra8p0\\LocalCache\\local-packages\\Python38\\site-packages\\sklearn\\base.py:585\u001b[0m, in \u001b[0;36mBaseEstimator._validate_data\u001b[1;34m(self, X, y, reset, validate_separately, **check_params)\u001b[0m\n\u001b[0;32m    582\u001b[0m     out \u001b[39m=\u001b[39m X, y\n\u001b[0;32m    584\u001b[0m \u001b[39mif\u001b[39;00m \u001b[39mnot\u001b[39;00m no_val_X \u001b[39mand\u001b[39;00m check_params\u001b[39m.\u001b[39mget(\u001b[39m\"\u001b[39m\u001b[39mensure_2d\u001b[39m\u001b[39m\"\u001b[39m, \u001b[39mTrue\u001b[39;00m):\n\u001b[1;32m--> 585\u001b[0m     \u001b[39mself\u001b[39;49m\u001b[39m.\u001b[39;49m_check_n_features(X, reset\u001b[39m=\u001b[39;49mreset)\n\u001b[0;32m    587\u001b[0m \u001b[39mreturn\u001b[39;00m out\n",
      "File \u001b[1;32m~\\AppData\\Local\\Packages\\PythonSoftwareFoundation.Python.3.8_qbz5n2kfra8p0\\LocalCache\\local-packages\\Python38\\site-packages\\sklearn\\base.py:400\u001b[0m, in \u001b[0;36mBaseEstimator._check_n_features\u001b[1;34m(self, X, reset)\u001b[0m\n\u001b[0;32m    397\u001b[0m     \u001b[39mreturn\u001b[39;00m\n\u001b[0;32m    399\u001b[0m \u001b[39mif\u001b[39;00m n_features \u001b[39m!=\u001b[39m \u001b[39mself\u001b[39m\u001b[39m.\u001b[39mn_features_in_:\n\u001b[1;32m--> 400\u001b[0m     \u001b[39mraise\u001b[39;00m \u001b[39mValueError\u001b[39;00m(\n\u001b[0;32m    401\u001b[0m         \u001b[39mf\u001b[39m\u001b[39m\"\u001b[39m\u001b[39mX has \u001b[39m\u001b[39m{\u001b[39;00mn_features\u001b[39m}\u001b[39;00m\u001b[39m features, but \u001b[39m\u001b[39m{\u001b[39;00m\u001b[39mself\u001b[39m\u001b[39m.\u001b[39m\u001b[39m__class__\u001b[39m\u001b[39m.\u001b[39m\u001b[39m__name__\u001b[39m\u001b[39m}\u001b[39;00m\u001b[39m \u001b[39m\u001b[39m\"\u001b[39m\n\u001b[0;32m    402\u001b[0m         \u001b[39mf\u001b[39m\u001b[39m\"\u001b[39m\u001b[39mis expecting \u001b[39m\u001b[39m{\u001b[39;00m\u001b[39mself\u001b[39m\u001b[39m.\u001b[39mn_features_in_\u001b[39m}\u001b[39;00m\u001b[39m features as input.\u001b[39m\u001b[39m\"\u001b[39m\n\u001b[0;32m    403\u001b[0m     )\n",
      "\u001b[1;31mValueError\u001b[0m: X has 30 features, but MLPClassifier is expecting 33 features as input."
     ]
    }
   ],
   "source": [
    "import joblib\n",
    "import pandas as pd\n",
    "import numpy as np\n",
    "from preprocessing import preprocessing, one_hot_encoder\n",
    "from feature_engineering import create_feat\n",
    "\n",
    "from utils import read_yaml\n",
    "\n",
    "PREPROCESSING_CONFIG_PATH = \"../config/preprocessing_config.yaml\"\n",
    "PREDICT_CONFIG_PATH = \"../config/predict_config.yaml\"\n",
    "\n",
    "params_prep = read_yaml(PREPROCESSING_CONFIG_PATH)\n",
    "params = read_yaml(PREDICT_CONFIG_PATH)\n",
    "\n",
    "normalizer = joblib.load(\"../output/normalizer.pkl\")\n",
    "ohe = joblib.load(\"../output/onehotencoder.pkl\")\n",
    "model = joblib.load('../output/model_name.pkl')\n",
    "estimator = joblib.load('../output/best_estimator.pkl')\n",
    "\n",
    "def construct(test_predict, params_prep):    \n",
    "    df_test = pd.DataFrame(test_predict).astype(int)\n",
    "    feat = create_feat(df_test)\n",
    "    df_normalizer = preprocessing(feat, params_prep, state=normalizer)[0]\n",
    "    df_ohe = ohe.transform(feat[['SEX', 'MARRIAGE']])\n",
    "    col = ohe.get_feature_names_out()\n",
    "    df_ohe = pd.DataFrame(df_ohe, columns=col)\n",
    "    result = pd.merge(df_ohe, df_normalizer, how=\"left\")\n",
    "    return result\n",
    "\n",
    "def main_predict(prediksian):\n",
    "    to_predict_model = model.predict(prediksian) #sek salah\n",
    "    if to_predict_model == [0]:\n",
    "        print(\"Non Deafult\")\n",
    "    else:\n",
    "        print(\"Default\")\n",
    "\n",
    "if __name__ == \"__main__\":\n",
    "    n_data = int(input(f\"Input data (enter int value): \"))\n",
    "    data_predict = {}\n",
    "    for i in range(n_data):\n",
    "        for i in params[\"x_col\"]:\n",
    "            if i in data_predict:\n",
    "                data_predict[i].append(input(f\"Input {i}: \"))\n",
    "            else:\n",
    "                data_predict[i] = [input(f\"Input {i}: \")]\n",
    "    to_pred = construct(data_predict, params_prep)\n",
    "    main_predict(to_pred)"
   ]
  },
  {
   "cell_type": "code",
   "execution_count": null,
   "metadata": {},
   "outputs": [],
   "source": [
    "construct(data_predict, params_prep)"
   ]
  },
  {
   "cell_type": "code",
   "execution_count": 72,
   "metadata": {},
   "outputs": [
    {
     "ename": "AttributeError",
     "evalue": "'dict' object has no attribute 'index'",
     "output_type": "error",
     "traceback": [
      "\u001b[1;31m---------------------------------------------------------------------------\u001b[0m",
      "\u001b[1;31mAttributeError\u001b[0m                            Traceback (most recent call last)",
      "\u001b[1;32mc:\\Users\\yuha bach\\Downloads\\PLDS_Team_E\\app\\Notebook\\predict.ipynb Cell 3\u001b[0m in \u001b[0;36m<cell line: 7>\u001b[1;34m()\u001b[0m\n\u001b[0;32m      <a href='vscode-notebook-cell:/c%3A/Users/yuha%20bach/Downloads/PLDS_Team_E/app/Notebook/predict.ipynb#ch0000002?line=4'>5</a>\u001b[0m feat \u001b[39m=\u001b[39m create_feat(df_test)\n\u001b[0;32m      <a href='vscode-notebook-cell:/c%3A/Users/yuha%20bach/Downloads/PLDS_Team_E/app/Notebook/predict.ipynb#ch0000002?line=5'>6</a>\u001b[0m df_normalizer \u001b[39m=\u001b[39m preprocessing(feat, params_prep, state\u001b[39m=\u001b[39mnormalizer)[\u001b[39m0\u001b[39m]\n\u001b[1;32m----> <a href='vscode-notebook-cell:/c%3A/Users/yuha%20bach/Downloads/PLDS_Team_E/app/Notebook/predict.ipynb#ch0000002?line=6'>7</a>\u001b[0m to_ohe \u001b[39m=\u001b[39m one_hot_encoder(feat[[\u001b[39m'\u001b[39;49m\u001b[39mSEX\u001b[39;49m\u001b[39m'\u001b[39;49m, \u001b[39m'\u001b[39;49m\u001b[39mMARRIAGE\u001b[39;49m\u001b[39m'\u001b[39;49m]], params_prep, state\u001b[39m=\u001b[39;49mohe)\n\u001b[0;32m      <a href='vscode-notebook-cell:/c%3A/Users/yuha%20bach/Downloads/PLDS_Team_E/app/Notebook/predict.ipynb#ch0000002?line=7'>8</a>\u001b[0m col \u001b[39m=\u001b[39m ohe\u001b[39m.\u001b[39mget_feature_names_out()\n\u001b[0;32m      <a href='vscode-notebook-cell:/c%3A/Users/yuha%20bach/Downloads/PLDS_Team_E/app/Notebook/predict.ipynb#ch0000002?line=8'>9</a>\u001b[0m df_ohe \u001b[39m=\u001b[39m pd\u001b[39m.\u001b[39mDataFrame(to_ohe, columns\u001b[39m=\u001b[39mcol)\n",
      "File \u001b[1;32mc:\\Users\\yuha bach\\Downloads\\PLDS_Team_E\\app\\Notebook\\preprocessing.py:37\u001b[0m, in \u001b[0;36mone_hot_encoder\u001b[1;34m(params, x_cat, state)\u001b[0m\n\u001b[0;32m     33\u001b[0m \u001b[39mdef\u001b[39;00m \u001b[39mone_hot_encoder\u001b[39m(params,\n\u001b[0;32m     34\u001b[0m                     x_cat,\n\u001b[0;32m     35\u001b[0m                     state\u001b[39m=\u001b[39m\u001b[39mNone\u001b[39;00m):\n\u001b[0;32m     36\u001b[0m     df \u001b[39m=\u001b[39m x_cat\u001b[39m.\u001b[39mcopy()\n\u001b[1;32m---> 37\u001b[0m     index \u001b[39m=\u001b[39m x_cat\u001b[39m.\u001b[39;49mindex\n\u001b[0;32m     38\u001b[0m     col \u001b[39m=\u001b[39m x_cat\u001b[39m.\u001b[39mcolumns\n\u001b[0;32m     40\u001b[0m     \u001b[39mif\u001b[39;00m state \u001b[39m==\u001b[39m \u001b[39mNone\u001b[39;00m:\n",
      "\u001b[1;31mAttributeError\u001b[0m: 'dict' object has no attribute 'index'"
     ]
    }
   ],
   "source": [
    "from preprocessing import preprocessing, one_hot_encoder\n",
    "\n",
    "test_predict = data_predict\n",
    "df_test = pd.DataFrame(test_predict).astype(int)\n",
    "feat = create_feat(df_test)\n",
    "df_normalizer = preprocessing(feat, params_prep, state=normalizer)[0]\n",
    "to_ohe = one_hot_encoder(feat[['SEX', 'MARRIAGE']], params_prep, state=ohe)\n",
    "col = ohe.get_feature_names_out()\n",
    "df_ohe = pd.DataFrame(to_ohe, columns=col)\n",
    "result = pd.merge(df_ohe, df_normalizer, how=\"left\")"
   ]
  },
  {
   "cell_type": "code",
   "execution_count": 68,
   "metadata": {},
   "outputs": [
    {
     "data": {
      "text/html": [
       "<div>\n",
       "<style scoped>\n",
       "    .dataframe tbody tr th:only-of-type {\n",
       "        vertical-align: middle;\n",
       "    }\n",
       "\n",
       "    .dataframe tbody tr th {\n",
       "        vertical-align: top;\n",
       "    }\n",
       "\n",
       "    .dataframe thead th {\n",
       "        text-align: right;\n",
       "    }\n",
       "</style>\n",
       "<table border=\"1\" class=\"dataframe\">\n",
       "  <thead>\n",
       "    <tr style=\"text-align: right;\">\n",
       "      <th></th>\n",
       "      <th>ID</th>\n",
       "      <th>LIMIT_BAL</th>\n",
       "      <th>SEX</th>\n",
       "      <th>EDUCATION</th>\n",
       "      <th>MARRIAGE</th>\n",
       "      <th>AGE</th>\n",
       "      <th>PAY_0</th>\n",
       "      <th>PAY_2</th>\n",
       "      <th>PAY_3</th>\n",
       "      <th>PAY_4</th>\n",
       "      <th>...</th>\n",
       "      <th>PAY_AMT4</th>\n",
       "      <th>PAY_AMT5</th>\n",
       "      <th>PAY_AMT6</th>\n",
       "      <th>AgeBin</th>\n",
       "      <th>Closeness_6</th>\n",
       "      <th>Closeness_5</th>\n",
       "      <th>Closeness_4</th>\n",
       "      <th>Closeness_3</th>\n",
       "      <th>Closeness_2</th>\n",
       "      <th>Closeness_1</th>\n",
       "    </tr>\n",
       "  </thead>\n",
       "  <tbody>\n",
       "    <tr>\n",
       "      <th>0</th>\n",
       "      <td>123</td>\n",
       "      <td>10000</td>\n",
       "      <td>1</td>\n",
       "      <td>2</td>\n",
       "      <td>1</td>\n",
       "      <td>33</td>\n",
       "      <td>0</td>\n",
       "      <td>1</td>\n",
       "      <td>2</td>\n",
       "      <td>1</td>\n",
       "      <td>...</td>\n",
       "      <td>500</td>\n",
       "      <td>400</td>\n",
       "      <td>200</td>\n",
       "      <td>2</td>\n",
       "      <td>0.98</td>\n",
       "      <td>0.96</td>\n",
       "      <td>0.5</td>\n",
       "      <td>0.991</td>\n",
       "      <td>0.993</td>\n",
       "      <td>0.1</td>\n",
       "    </tr>\n",
       "  </tbody>\n",
       "</table>\n",
       "<p>1 rows × 31 columns</p>\n",
       "</div>"
      ],
      "text/plain": [
       "    ID  LIMIT_BAL  SEX  EDUCATION  MARRIAGE  AGE  PAY_0  PAY_2  PAY_3  PAY_4  \\\n",
       "0  123      10000    1          2         1   33      0      1      2      1   \n",
       "\n",
       "   ...  PAY_AMT4  PAY_AMT5  PAY_AMT6  AgeBin  Closeness_6  Closeness_5  \\\n",
       "0  ...       500       400       200       2         0.98         0.96   \n",
       "\n",
       "   Closeness_4  Closeness_3  Closeness_2  Closeness_1  \n",
       "0          0.5        0.991        0.993          0.1  \n",
       "\n",
       "[1 rows x 31 columns]"
      ]
     },
     "execution_count": 68,
     "metadata": {},
     "output_type": "execute_result"
    }
   ],
   "source": [
    "feat"
   ]
  },
  {
   "cell_type": "code",
   "execution_count": 71,
   "metadata": {},
   "outputs": [
    {
     "ename": "AttributeError",
     "evalue": "'dict' object has no attribute 'index'",
     "output_type": "error",
     "traceback": [
      "\u001b[1;31m---------------------------------------------------------------------------\u001b[0m",
      "\u001b[1;31mAttributeError\u001b[0m                            Traceback (most recent call last)",
      "\u001b[1;32mc:\\Users\\yuha bach\\Downloads\\PLDS_Team_E\\app\\Notebook\\predict.ipynb Cell 5\u001b[0m in \u001b[0;36m<cell line: 1>\u001b[1;34m()\u001b[0m\n\u001b[1;32m----> <a href='vscode-notebook-cell:/c%3A/Users/yuha%20bach/Downloads/PLDS_Team_E/app/Notebook/predict.ipynb#ch0000003?line=0'>1</a>\u001b[0m one_hot_encoder(feat[[\u001b[39m'\u001b[39;49m\u001b[39mSEX\u001b[39;49m\u001b[39m'\u001b[39;49m, \u001b[39m'\u001b[39;49m\u001b[39mMARRIAGE\u001b[39;49m\u001b[39m'\u001b[39;49m]], params_prep, state\u001b[39m=\u001b[39;49m\u001b[39m'\u001b[39;49m\u001b[39mnormalizer\u001b[39;49m\u001b[39m'\u001b[39;49m)\n",
      "File \u001b[1;32mc:\\Users\\yuha bach\\Downloads\\PLDS_Team_E\\app\\Notebook\\preprocessing.py:37\u001b[0m, in \u001b[0;36mone_hot_encoder\u001b[1;34m(params, x_cat, state)\u001b[0m\n\u001b[0;32m     33\u001b[0m \u001b[39mdef\u001b[39;00m \u001b[39mone_hot_encoder\u001b[39m(params,\n\u001b[0;32m     34\u001b[0m                     x_cat,\n\u001b[0;32m     35\u001b[0m                     state\u001b[39m=\u001b[39m\u001b[39mNone\u001b[39;00m):\n\u001b[0;32m     36\u001b[0m     df \u001b[39m=\u001b[39m x_cat\u001b[39m.\u001b[39mcopy()\n\u001b[1;32m---> 37\u001b[0m     index \u001b[39m=\u001b[39m x_cat\u001b[39m.\u001b[39;49mindex\n\u001b[0;32m     38\u001b[0m     col \u001b[39m=\u001b[39m x_cat\u001b[39m.\u001b[39mcolumns\n\u001b[0;32m     40\u001b[0m     \u001b[39mif\u001b[39;00m state \u001b[39m==\u001b[39m \u001b[39mNone\u001b[39;00m:\n",
      "\u001b[1;31mAttributeError\u001b[0m: 'dict' object has no attribute 'index'"
     ]
    }
   ],
   "source": [
    "one_hot_encoder(feat[['SEX', 'MARRIAGE']], params_prep, state='normalizer')"
   ]
  },
  {
   "cell_type": "code",
   "execution_count": 64,
   "metadata": {},
   "outputs": [
    {
     "data": {
      "text/plain": [
       "RangeIndex(start=0, stop=1, step=1)"
      ]
     },
     "execution_count": 64,
     "metadata": {},
     "output_type": "execute_result"
    }
   ],
   "source": [
    "feat[['SEX', 'MARRIAGE']].index"
   ]
  },
  {
   "cell_type": "code",
   "execution_count": 40,
   "metadata": {},
   "outputs": [
    {
     "name": "stderr",
     "output_type": "stream",
     "text": [
      "C:\\Users\\yuha bach\\AppData\\Local\\Packages\\PythonSoftwareFoundation.Python.3.8_qbz5n2kfra8p0\\LocalCache\\local-packages\\Python38\\site-packages\\sklearn\\base.py:493: FutureWarning: The feature names should match those that were passed during fit. Starting version 1.2, an error will be raised.\n",
      "Feature names seen at fit time, yet now missing:\n",
      "- MARRIAGE_2\n",
      "- MARRIAGE_3\n",
      "- SEX_2\n",
      "\n",
      "  warnings.warn(message, FutureWarning)\n"
     ]
    },
    {
     "ename": "ValueError",
     "evalue": "X has 30 features, but MLPClassifier is expecting 33 features as input.",
     "output_type": "error",
     "traceback": [
      "\u001b[1;31m---------------------------------------------------------------------------\u001b[0m",
      "\u001b[1;31mValueError\u001b[0m                                Traceback (most recent call last)",
      "\u001b[1;32mc:\\Users\\yuha bach\\Downloads\\PLDS_Team_E\\app\\Notebook\\predict.ipynb Cell 5\u001b[0m in \u001b[0;36m<cell line: 1>\u001b[1;34m()\u001b[0m\n\u001b[1;32m----> <a href='vscode-notebook-cell:/c%3A/Users/yuha%20bach/Downloads/PLDS_Team_E/app/Notebook/predict.ipynb#ch0000006?line=0'>1</a>\u001b[0m main_predict(result)\n",
      "\u001b[1;32mc:\\Users\\yuha bach\\Downloads\\PLDS_Team_E\\app\\Notebook\\predict.ipynb Cell 5\u001b[0m in \u001b[0;36mmain_predict\u001b[1;34m(prediksian)\u001b[0m\n\u001b[0;32m     <a href='vscode-notebook-cell:/c%3A/Users/yuha%20bach/Downloads/PLDS_Team_E/app/Notebook/predict.ipynb#ch0000006?line=29'>30</a>\u001b[0m \u001b[39mdef\u001b[39;00m \u001b[39mmain_predict\u001b[39m(prediksian):\n\u001b[1;32m---> <a href='vscode-notebook-cell:/c%3A/Users/yuha%20bach/Downloads/PLDS_Team_E/app/Notebook/predict.ipynb#ch0000006?line=30'>31</a>\u001b[0m     to_predict_model \u001b[39m=\u001b[39m model\u001b[39m.\u001b[39;49mpredict(prediksian) \u001b[39m#sek salah\u001b[39;00m\n\u001b[0;32m     <a href='vscode-notebook-cell:/c%3A/Users/yuha%20bach/Downloads/PLDS_Team_E/app/Notebook/predict.ipynb#ch0000006?line=31'>32</a>\u001b[0m     \u001b[39mif\u001b[39;00m to_predict_model \u001b[39m==\u001b[39m [\u001b[39m0\u001b[39m]:\n\u001b[0;32m     <a href='vscode-notebook-cell:/c%3A/Users/yuha%20bach/Downloads/PLDS_Team_E/app/Notebook/predict.ipynb#ch0000006?line=32'>33</a>\u001b[0m         \u001b[39mprint\u001b[39m(\u001b[39m\"\u001b[39m\u001b[39mNon Deafult\u001b[39m\u001b[39m\"\u001b[39m)\n",
      "File \u001b[1;32m~\\AppData\\Local\\Packages\\PythonSoftwareFoundation.Python.3.8_qbz5n2kfra8p0\\LocalCache\\local-packages\\Python38\\site-packages\\sklearn\\neural_network\\_multilayer_perceptron.py:1167\u001b[0m, in \u001b[0;36mMLPClassifier.predict\u001b[1;34m(self, X)\u001b[0m\n\u001b[0;32m   1154\u001b[0m \u001b[39m\"\"\"Predict using the multi-layer perceptron classifier.\u001b[39;00m\n\u001b[0;32m   1155\u001b[0m \n\u001b[0;32m   1156\u001b[0m \u001b[39mParameters\u001b[39;00m\n\u001b[1;32m   (...)\u001b[0m\n\u001b[0;32m   1164\u001b[0m \u001b[39m    The predicted classes.\u001b[39;00m\n\u001b[0;32m   1165\u001b[0m \u001b[39m\"\"\"\u001b[39;00m\n\u001b[0;32m   1166\u001b[0m check_is_fitted(\u001b[39mself\u001b[39m)\n\u001b[1;32m-> 1167\u001b[0m y_pred \u001b[39m=\u001b[39m \u001b[39mself\u001b[39;49m\u001b[39m.\u001b[39;49m_forward_pass_fast(X)\n\u001b[0;32m   1169\u001b[0m \u001b[39mif\u001b[39;00m \u001b[39mself\u001b[39m\u001b[39m.\u001b[39mn_outputs_ \u001b[39m==\u001b[39m \u001b[39m1\u001b[39m:\n\u001b[0;32m   1170\u001b[0m     y_pred \u001b[39m=\u001b[39m y_pred\u001b[39m.\u001b[39mravel()\n",
      "File \u001b[1;32m~\\AppData\\Local\\Packages\\PythonSoftwareFoundation.Python.3.8_qbz5n2kfra8p0\\LocalCache\\local-packages\\Python38\\site-packages\\sklearn\\neural_network\\_multilayer_perceptron.py:159\u001b[0m, in \u001b[0;36mBaseMultilayerPerceptron._forward_pass_fast\u001b[1;34m(self, X)\u001b[0m\n\u001b[0;32m    143\u001b[0m \u001b[39mdef\u001b[39;00m \u001b[39m_forward_pass_fast\u001b[39m(\u001b[39mself\u001b[39m, X):\n\u001b[0;32m    144\u001b[0m     \u001b[39m\"\"\"Predict using the trained model\u001b[39;00m\n\u001b[0;32m    145\u001b[0m \n\u001b[0;32m    146\u001b[0m \u001b[39m    This is the same as _forward_pass but does not record the activations\u001b[39;00m\n\u001b[1;32m   (...)\u001b[0m\n\u001b[0;32m    157\u001b[0m \u001b[39m        The decision function of the samples for each class in the model.\u001b[39;00m\n\u001b[0;32m    158\u001b[0m \u001b[39m    \"\"\"\u001b[39;00m\n\u001b[1;32m--> 159\u001b[0m     X \u001b[39m=\u001b[39m \u001b[39mself\u001b[39;49m\u001b[39m.\u001b[39;49m_validate_data(X, accept_sparse\u001b[39m=\u001b[39;49m[\u001b[39m\"\u001b[39;49m\u001b[39mcsr\u001b[39;49m\u001b[39m\"\u001b[39;49m, \u001b[39m\"\u001b[39;49m\u001b[39mcsc\u001b[39;49m\u001b[39m\"\u001b[39;49m], reset\u001b[39m=\u001b[39;49m\u001b[39mFalse\u001b[39;49;00m)\n\u001b[0;32m    161\u001b[0m     \u001b[39m# Initialize first layer\u001b[39;00m\n\u001b[0;32m    162\u001b[0m     activation \u001b[39m=\u001b[39m X\n",
      "File \u001b[1;32m~\\AppData\\Local\\Packages\\PythonSoftwareFoundation.Python.3.8_qbz5n2kfra8p0\\LocalCache\\local-packages\\Python38\\site-packages\\sklearn\\base.py:585\u001b[0m, in \u001b[0;36mBaseEstimator._validate_data\u001b[1;34m(self, X, y, reset, validate_separately, **check_params)\u001b[0m\n\u001b[0;32m    582\u001b[0m     out \u001b[39m=\u001b[39m X, y\n\u001b[0;32m    584\u001b[0m \u001b[39mif\u001b[39;00m \u001b[39mnot\u001b[39;00m no_val_X \u001b[39mand\u001b[39;00m check_params\u001b[39m.\u001b[39mget(\u001b[39m\"\u001b[39m\u001b[39mensure_2d\u001b[39m\u001b[39m\"\u001b[39m, \u001b[39mTrue\u001b[39;00m):\n\u001b[1;32m--> 585\u001b[0m     \u001b[39mself\u001b[39;49m\u001b[39m.\u001b[39;49m_check_n_features(X, reset\u001b[39m=\u001b[39;49mreset)\n\u001b[0;32m    587\u001b[0m \u001b[39mreturn\u001b[39;00m out\n",
      "File \u001b[1;32m~\\AppData\\Local\\Packages\\PythonSoftwareFoundation.Python.3.8_qbz5n2kfra8p0\\LocalCache\\local-packages\\Python38\\site-packages\\sklearn\\base.py:400\u001b[0m, in \u001b[0;36mBaseEstimator._check_n_features\u001b[1;34m(self, X, reset)\u001b[0m\n\u001b[0;32m    397\u001b[0m     \u001b[39mreturn\u001b[39;00m\n\u001b[0;32m    399\u001b[0m \u001b[39mif\u001b[39;00m n_features \u001b[39m!=\u001b[39m \u001b[39mself\u001b[39m\u001b[39m.\u001b[39mn_features_in_:\n\u001b[1;32m--> 400\u001b[0m     \u001b[39mraise\u001b[39;00m \u001b[39mValueError\u001b[39;00m(\n\u001b[0;32m    401\u001b[0m         \u001b[39mf\u001b[39m\u001b[39m\"\u001b[39m\u001b[39mX has \u001b[39m\u001b[39m{\u001b[39;00mn_features\u001b[39m}\u001b[39;00m\u001b[39m features, but \u001b[39m\u001b[39m{\u001b[39;00m\u001b[39mself\u001b[39m\u001b[39m.\u001b[39m\u001b[39m__class__\u001b[39m\u001b[39m.\u001b[39m\u001b[39m__name__\u001b[39m\u001b[39m}\u001b[39;00m\u001b[39m \u001b[39m\u001b[39m\"\u001b[39m\n\u001b[0;32m    402\u001b[0m         \u001b[39mf\u001b[39m\u001b[39m\"\u001b[39m\u001b[39mis expecting \u001b[39m\u001b[39m{\u001b[39;00m\u001b[39mself\u001b[39m\u001b[39m.\u001b[39mn_features_in_\u001b[39m}\u001b[39;00m\u001b[39m features as input.\u001b[39m\u001b[39m\"\u001b[39m\n\u001b[0;32m    403\u001b[0m     )\n",
      "\u001b[1;31mValueError\u001b[0m: X has 30 features, but MLPClassifier is expecting 33 features as input."
     ]
    }
   ],
   "source": [
    "main_predict(result)"
   ]
  },
  {
   "cell_type": "code",
   "execution_count": 37,
   "metadata": {},
   "outputs": [
    {
     "data": {
      "text/plain": [
       "{'ID': ['123'],\n",
       " 'LIMIT_BAL': ['10000'],\n",
       " 'SEX': ['1'],\n",
       " 'EDUCATION': ['2'],\n",
       " 'MARRIAGE': ['1'],\n",
       " 'AGE': ['33'],\n",
       " 'PAY_0': ['0'],\n",
       " 'PAY_2': ['1'],\n",
       " 'PAY_3': ['2'],\n",
       " 'PAY_4': ['1'],\n",
       " 'PAY_5': ['0'],\n",
       " 'PAY_6': ['-1'],\n",
       " 'BILL_AMT1': ['9000'],\n",
       " 'BILL_AMT2': ['70'],\n",
       " 'BILL_AMT3': ['90'],\n",
       " 'BILL_AMT4': ['5000'],\n",
       " 'BILL_AMT5': ['400'],\n",
       " 'BILL_AMT6': ['200'],\n",
       " 'PAY_AMT1': ['90'],\n",
       " 'PAY_AMT2': ['800'],\n",
       " 'PAY_AMT3': ['60'],\n",
       " 'PAY_AMT4': ['500'],\n",
       " 'PAY_AMT5': ['400'],\n",
       " 'PAY_AMT6': ['200']}"
      ]
     },
     "execution_count": 37,
     "metadata": {},
     "output_type": "execute_result"
    }
   ],
   "source": [
    "data_predict"
   ]
  },
  {
   "cell_type": "code",
   "execution_count": 41,
   "metadata": {},
   "outputs": [
    {
     "data": {
      "text/plain": [
       "OneHotEncoder(handle_unknown='ignore', sparse=False)"
      ]
     },
     "execution_count": 41,
     "metadata": {},
     "output_type": "execute_result"
    }
   ],
   "source": [
    "ohe"
   ]
  },
  {
   "cell_type": "code",
   "execution_count": null,
   "metadata": {},
   "outputs": [],
   "source": []
  }
 ],
 "metadata": {
  "kernelspec": {
   "display_name": "Python 3.8.10 64-bit (windows store)",
   "language": "python",
   "name": "python3"
  },
  "language_info": {
   "codemirror_mode": {
    "name": "ipython",
    "version": 3
   },
   "file_extension": ".py",
   "mimetype": "text/x-python",
   "name": "python",
   "nbconvert_exporter": "python",
   "pygments_lexer": "ipython3",
   "version": "3.8.10"
  },
  "orig_nbformat": 4,
  "vscode": {
   "interpreter": {
    "hash": "49de8e361bcaa7b87b0d9a1948e17b94b1b6765468a847b75af4a4273d6c7723"
   }
  }
 },
 "nbformat": 4,
 "nbformat_minor": 2
}
