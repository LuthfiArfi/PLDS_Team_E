{
 "cells": [
  {
   "cell_type": "code",
   "execution_count": 67,
   "metadata": {},
   "outputs": [],
   "source": [
    "import joblib\n",
    "import pandas as pd\n",
    "import numpy as np\n",
    "from preprocessing import preprocessing, normalization\n",
    "from feature_engineering import create_feat\n",
    "\n",
    "from utils import read_yaml\n",
    "\n",
    "PREPROCESSING_CONFIG_PATH = \"../config/preprocessing_config.yaml\"\n",
    "FEATURE_ENGINEERING_CONFIG_PATH = \"../config/feature_engineering_config.yaml\"\n",
    "\n",
    "normalizer = joblib.load(\"../output/normalizer.pkl\")\n",
    "model = joblib.load('../output/model_name.pkl')\n",
    "estimator = joblib.load('../output/best_estimator.pkl')"
   ]
  },
  {
   "cell_type": "code",
   "execution_count": 86,
   "metadata": {},
   "outputs": [],
   "source": [
    "def construct_df(params, data_to_predict, file=None):\n",
    "    if file == 'csv':\n",
    "        df_to_predict = pd.read_csv(data_to_predict, sep = ';')\n",
    "    elif file == 'excel':\n",
    "        df_to_predict = pd.read_excel(data_to_predict)\n",
    "    else:\n",
    "        df_to_predict = pd.DataFrame(data=data_to_predict)\n",
    "        df_to_predict = set_dtypes(df_to_predict, params)\n",
    "        COLUMN = set(params['PREDICT_COLUMN'])\n",
    "        column_in_data = set(df_to_predict.columns)\n",
    "        remain_columns = list(COLUMN-column_in_data)\n",
    "        df_to_predict[remain_columns] = np.NaN\n",
    "    return df_to_predict\n",
    "\n",
    "def main_predict(text, tfidf_vectorizer, model, threshold, param_preprocess, param_vec, id=0):\n",
    "    df = df_constructor(text, id)\n",
    "    df_preprocessed = preprocessing(df, param_preprocess)\n",
    "    df_vect, _ = vectorize_tfidf(df_preprocessed, param_vec, tfidf_vectorizer)\n",
    "    \n",
    "    code2rel = {0: 'Non-Toxic', 1: 'Toxic'}\n",
    "    df_vect = df_vect.drop(columns='id')\n",
    "    proba = model.predict_proba(df_vect)[:, 1]\n",
    "    predict = 1 if proba > threshold else 0\n",
    "    \n",
    "    return code2rel[predict], proba"
   ]
  },
  {
   "cell_type": "code",
   "execution_count": 50,
   "metadata": {},
   "outputs": [],
   "source": [
    "from utils import read_yaml\n",
    "\n",
    "PREPROCESSING_CONFIG_PATH = \"../config/preprocessing_config.yaml\"\n",
    "\n",
    "params_prep = read_yaml(PREPROCESSING_CONFIG_PATH)\n"
   ]
  },
  {
   "cell_type": "code",
   "execution_count": 47,
   "metadata": {},
   "outputs": [],
   "source": [
    "train = joblib.load('../output/x_train.pkl')\n",
    "to_predict = train.iloc[[45]]\n",
    "col_name = to_predict.columns\n",
    "test_predict = np.array([[234, 300000, 2, 3, 1, 45, 1, -1, 0, -1, 1, -1, 3000, 4000, 245, 3560, 1200, 200, 4000, 245, 80, 3000, 1000, 100]])\n",
    "df_test = pd.DataFrame(test_predict, columns=col_name)"
   ]
  },
  {
   "cell_type": "code",
   "execution_count": 64,
   "metadata": {},
   "outputs": [],
   "source": [
    "feat = create_feat(df_test)\n",
    "df_normalizer = preprocessing(feat, params=params_prep, state='normalizer')[0]"
   ]
  },
  {
   "cell_type": "code",
   "execution_count": 71,
   "metadata": {},
   "outputs": [
    {
     "data": {
      "text/html": [
       "<div>\n",
       "<style scoped>\n",
       "    .dataframe tbody tr th:only-of-type {\n",
       "        vertical-align: middle;\n",
       "    }\n",
       "\n",
       "    .dataframe tbody tr th {\n",
       "        vertical-align: top;\n",
       "    }\n",
       "\n",
       "    .dataframe thead th {\n",
       "        text-align: right;\n",
       "    }\n",
       "</style>\n",
       "<table border=\"1\" class=\"dataframe\">\n",
       "  <thead>\n",
       "    <tr style=\"text-align: right;\">\n",
       "      <th></th>\n",
       "      <th>ID</th>\n",
       "      <th>LIMIT_BAL</th>\n",
       "      <th>SEX</th>\n",
       "      <th>EDUCATION</th>\n",
       "      <th>MARRIAGE</th>\n",
       "      <th>AGE</th>\n",
       "      <th>PAY_0</th>\n",
       "      <th>PAY_2</th>\n",
       "      <th>PAY_3</th>\n",
       "      <th>PAY_4</th>\n",
       "      <th>...</th>\n",
       "      <th>PAY_AMT4</th>\n",
       "      <th>PAY_AMT5</th>\n",
       "      <th>PAY_AMT6</th>\n",
       "      <th>AgeBin</th>\n",
       "      <th>Closeness_6</th>\n",
       "      <th>Closeness_5</th>\n",
       "      <th>Closeness_4</th>\n",
       "      <th>Closeness_3</th>\n",
       "      <th>Closeness_2</th>\n",
       "      <th>Closeness_1</th>\n",
       "    </tr>\n",
       "  </thead>\n",
       "  <tbody>\n",
       "    <tr>\n",
       "      <th>0</th>\n",
       "      <td>0.0</td>\n",
       "      <td>0.0</td>\n",
       "      <td>0.0</td>\n",
       "      <td>0.0</td>\n",
       "      <td>0.0</td>\n",
       "      <td>0.0</td>\n",
       "      <td>0.0</td>\n",
       "      <td>0.0</td>\n",
       "      <td>0.0</td>\n",
       "      <td>0.0</td>\n",
       "      <td>...</td>\n",
       "      <td>0.0</td>\n",
       "      <td>0.0</td>\n",
       "      <td>0.0</td>\n",
       "      <td>0.0</td>\n",
       "      <td>0.0</td>\n",
       "      <td>0.0</td>\n",
       "      <td>0.0</td>\n",
       "      <td>0.0</td>\n",
       "      <td>0.0</td>\n",
       "      <td>0.0</td>\n",
       "    </tr>\n",
       "  </tbody>\n",
       "</table>\n",
       "<p>1 rows × 31 columns</p>\n",
       "</div>"
      ],
      "text/plain": [
       "    ID  LIMIT_BAL  SEX  EDUCATION  MARRIAGE  AGE  PAY_0  PAY_2  PAY_3  PAY_4  \\\n",
       "0  0.0        0.0  0.0        0.0       0.0  0.0    0.0    0.0    0.0    0.0   \n",
       "\n",
       "   ...  PAY_AMT4  PAY_AMT5  PAY_AMT6  AgeBin  Closeness_6  Closeness_5  \\\n",
       "0  ...       0.0       0.0       0.0     0.0          0.0          0.0   \n",
       "\n",
       "   Closeness_4  Closeness_3  Closeness_2  Closeness_1  \n",
       "0          0.0          0.0          0.0          0.0  \n",
       "\n",
       "[1 rows x 31 columns]"
      ]
     },
     "execution_count": 71,
     "metadata": {},
     "output_type": "execute_result"
    }
   ],
   "source": [
    "normalization(params_prep, feat, state='normal')[0]"
   ]
  }
 ],
 "metadata": {
  "kernelspec": {
   "display_name": "Python 3.8.10 64-bit (windows store)",
   "language": "python",
   "name": "python3"
  },
  "language_info": {
   "codemirror_mode": {
    "name": "ipython",
    "version": 3
   },
   "file_extension": ".py",
   "mimetype": "text/x-python",
   "name": "python",
   "nbconvert_exporter": "python",
   "pygments_lexer": "ipython3",
   "version": "3.8.10"
  },
  "orig_nbformat": 4,
  "vscode": {
   "interpreter": {
    "hash": "49de8e361bcaa7b87b0d9a1948e17b94b1b6765468a847b75af4a4273d6c7723"
   }
  }
 },
 "nbformat": 4,
 "nbformat_minor": 2
}
