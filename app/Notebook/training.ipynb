{
 "cells": [
  {
   "cell_type": "code",
   "execution_count": 28,
   "metadata": {},
   "outputs": [],
   "source": [
    "import numpy as np\n",
    "import pandas as pd\n",
    "from tqdm import tqdm\n",
    "import joblib\n",
    "import time\n",
    "from sklearn.model_selection import RandomizedSearchCV\n",
    "from sklearn.linear_model import LogisticRegression\n",
    "from sklearn.ensemble import RandomForestClassifier\n",
    "from sklearn.metrics import classification_report, roc_auc_score, f1_score, make_scorer\n",
    "tqdm.pandas()\n",
    "from utils import read_yaml\n",
    "MODELING_CONFIG_PATH = \"../config/modeling_config.yaml\"\n",
    "\n",
    "def load_fed_data():\n",
    "    \"\"\"\n",
    "    Loader for feature engineered data.\n",
    "    Args:\n",
    "    - params(dict): modeling params.\n",
    "    Returns:\n",
    "    - x_train(DataFrame): inputs of train set.\n",
    "    - y_train(DataFrame): target of train set.\n",
    "    - x_valid(DataFrame): inputs of valid set.\n",
    "    - y_valid(DataFrame): terget of valid set.\n",
    "    \"\"\"\n",
    "\n",
    "    x_train_path = \"../output/x_train_preprocessed.pkl\"\n",
    "    y_train_path = \"../output/y_train.pkl\"\n",
    "    x_valid_path = \"../output/x_valid_preprocessed.pkl\"\n",
    "    y_valid_path = \"../output/y_valid.pkl\"\n",
    "    x_train = joblib.load(x_train_path)\n",
    "    y_train = np.ravel(joblib.load(y_train_path))\n",
    "    x_valid = joblib.load(x_valid_path)\n",
    "    y_valid = np.ravel(joblib.load(y_valid_path))\n",
    "    return x_train, y_train, x_valid, y_valid\n",
    "\n",
    "def model():\n",
    "    base_model = RandomForestClassifier(random_state=42, n_jobs=-1)\n",
    "    param_dist = {'n_estimators' : [25, 50, 100]}\n",
    "    return base_model, param_dist"
   ]
  },
  {
   "cell_type": "code",
   "execution_count": 30,
   "metadata": {},
   "outputs": [],
   "source": [
    "def validate(x_valid, y_valid):\n",
    "    y_pred = result.predict(x_valid)\n",
    "    report_model = classification_report(y_valid, y_pred,)\n",
    "    return report_model"
   ]
  },
  {
   "cell_type": "code",
   "execution_count": 40,
   "metadata": {},
   "outputs": [],
   "source": [
    "def main_training_model(param_model, x_train, y_train, x_valid, y_valid):\n",
    "\n",
    "    # define model\n",
    "    base_model, param_dist = param_model\n",
    "\n",
    "    scoring = 'f1'\n",
    "\n",
    "    # define search\n",
    "    search = RandomizedSearchCV(base_model, param_dist, scoring=scoring, cv=3)\n",
    "\n",
    "    # execute search\n",
    "    result = search.fit(x_train, y_train)\n",
    "    validation_result = result.score(x_valid, y_valid)\n",
    "    \n",
    "    print('validation score: %s' % validation_result)\n",
    "\n",
    "    # Dump model name\n",
    "    joblib.dump(base_model, f'../output/model_name.pkl')\n",
    "    # Dump best model estimator with best param\n",
    "    joblib.dump(result.get_params, '../output/best_estimator.pkl')\n",
    "    # summarize result\n",
    "    joblib.dump(result, '../output/result.pkl')\n",
    "\n",
    "    return result"
   ]
  },
  {
   "cell_type": "code",
   "execution_count": 41,
   "metadata": {},
   "outputs": [
    {
     "name": "stderr",
     "output_type": "stream",
     "text": [
      "C:\\Users\\yuha bach\\AppData\\Local\\Packages\\PythonSoftwareFoundation.Python.3.8_qbz5n2kfra8p0\\LocalCache\\local-packages\\Python38\\site-packages\\sklearn\\model_selection\\_search.py:292: UserWarning: The total space of parameters 3 is smaller than n_iter=10. Running 3 iterations. For exhaustive searches, use GridSearchCV.\n",
      "  warnings.warn(\n"
     ]
    },
    {
     "name": "stdout",
     "output_type": "stream",
     "text": [
      "validation score: 0.42094560244026435\n"
     ]
    }
   ],
   "source": [
    "if __name__ == \"__main__\":\n",
    "    param_model = model()\n",
    "    x_train, y_train, x_valid, y_valid = load_fed_data()\n",
    "    hasil = main_training_model(param_model, x_train, y_train, x_valid, y_valid)"
   ]
  },
  {
   "cell_type": "code",
   "execution_count": 42,
   "metadata": {},
   "outputs": [
    {
     "data": {
      "text/plain": [
       "<bound method BaseEstimator.get_params of RandomizedSearchCV(cv=3,\n",
       "                   estimator=RandomForestClassifier(n_jobs=-1, random_state=42),\n",
       "                   param_distributions={'n_estimators': [25, 50, 100]},\n",
       "                   scoring='f1')>"
      ]
     },
     "execution_count": 42,
     "metadata": {},
     "output_type": "execute_result"
    }
   ],
   "source": [
    "joblib.load(\"../output/best_estimator.pkl\")"
   ]
  },
  {
   "cell_type": "code",
   "execution_count": null,
   "metadata": {},
   "outputs": [],
   "source": []
  }
 ],
 "metadata": {
  "kernelspec": {
   "display_name": "Python 3.8.10 64-bit (windows store)",
   "language": "python",
   "name": "python3"
  },
  "language_info": {
   "codemirror_mode": {
    "name": "ipython",
    "version": 3
   },
   "file_extension": ".py",
   "mimetype": "text/x-python",
   "name": "python",
   "nbconvert_exporter": "python",
   "pygments_lexer": "ipython3",
   "version": "3.8.10"
  },
  "orig_nbformat": 4,
  "vscode": {
   "interpreter": {
    "hash": "49de8e361bcaa7b87b0d9a1948e17b94b1b6765468a847b75af4a4273d6c7723"
   }
  }
 },
 "nbformat": 4,
 "nbformat_minor": 2
}
