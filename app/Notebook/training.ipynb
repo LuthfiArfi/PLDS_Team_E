{
 "cells": [
  {
   "cell_type": "code",
   "execution_count": 7,
   "metadata": {},
   "outputs": [],
   "source": [
    "import numpy as np\n",
    "import pandas as pd\n",
    "from tqdm import tqdm\n",
    "import joblib\n",
    "import time\n",
    "from sklearn.model_selection import RandomizedSearchCV\n",
    "from sklearn.linear_model import LogisticRegression\n",
    "from sklearn.ensemble import RandomForestClassifier\n",
    "from sklearn.metrics import classification_report, roc_auc_score, f1_score, make_scorer\n",
    "tqdm.pandas()\n",
    "from utils import read_yaml\n",
    "MODELING_CONFIG_PATH = \"../config/modeling_config.yaml\"\n",
    "\n",
    "def load_fed_data():\n",
    "    \"\"\"\n",
    "    Loader for feature engineered data.\n",
    "    Args:\n",
    "    - params(dict): modeling params.\n",
    "    Returns:\n",
    "    - x_train(DataFrame): inputs of train set.\n",
    "    - y_train(DataFrame): target of train set.\n",
    "    - x_valid(DataFrame): inputs of valid set.\n",
    "    - y_valid(DataFrame): terget of valid set.\n",
    "    \"\"\"\n",
    "\n",
    "    x_train_path = \"../output/x_train_normalized.pkl\"\n",
    "    y_train_path = \"../output/y_train.pkl\"\n",
    "    x_valid_path = \"../output/x_valid_normalized.pkl\"\n",
    "    y_valid_path = \"../output/y_valid.pkl\"\n",
    "    x_train = joblib.load(x_train_path)\n",
    "    y_train = joblib.load(y_train_path)\n",
    "    x_valid = joblib.load(x_valid_path)\n",
    "    y_valid = joblib.load(y_valid_path)\n",
    "    return x_train, y_train, x_valid, y_valid"
   ]
  },
  {
   "cell_type": "code",
   "execution_count": 8,
   "metadata": {},
   "outputs": [],
   "source": [
    "def model():\n",
    "    base_model = RandomForestClassifier(random_state=42, n_jobs=-1)\n",
    "    param_dist = {'n_estimators' : [25, 50, 100]}\n",
    "    return base_model, param_dist"
   ]
  },
  {
   "cell_type": "code",
   "execution_count": 12,
   "metadata": {},
   "outputs": [],
   "source": [
    "def main_training_model(param_model, x_train, x_valid, y_train, y_valid):\n",
    "\n",
    "    # define model\n",
    "    base_model, param_dist = param_model\n",
    "\n",
    "    scoring = 'f1'\n",
    "\n",
    "    # define search\n",
    "    search = RandomizedSearchCV(base_model, param_dist, scoring=scoring, cv=3)\n",
    "\n",
    "    # execute search\n",
    "    result = search.fit(x_train, y_train)\n",
    "    validation_result = validate(x_train, y_train, result)\n",
    "    \n",
    "    print('validation score: %s' % validation_result)\n",
    "\n",
    "    return result\n",
    "\n",
    "    # Dump model name\n",
    "    joblib.dump(model, f'output/model_name.pkl')\n",
    "    # Dump best model estimator with best param\n",
    "    joblib.dump(result.best_estimator_, 'output/best_estimator.pkl')\n",
    "    # summarize result\n",
    "    joblib.dump(result, 'output/result.pkl')\n",
    "\n",
    "def validate(x_valid, y_valid, model_fitted):\n",
    "    y_pred = result.predict(x_valid)\n",
    "    report_model = classification_report(y_valid, y_pred,)\n",
    "    return report_model"
   ]
  },
  {
   "cell_type": "code",
   "execution_count": null,
   "metadata": {},
   "outputs": [],
   "source": [
    "if __name__ == \"__main__\":\n",
    "    param_model = model()\n",
    "    x_train, y_train, x_valid, y_valid = load_fed_data()\n",
    "    hasil = main_training_model(param_model, x_train, y_train, x_valid, y_valid)"
   ]
  },
  {
   "cell_type": "code",
   "execution_count": null,
   "metadata": {},
   "outputs": [],
   "source": [
    "print(x_train.shape)\n",
    "print(y_train.shape)\n",
    "print(x_valid.shape)\n",
    "print(y_valid.shape)"
   ]
  },
  {
   "cell_type": "code",
   "execution_count": null,
   "metadata": {},
   "outputs": [],
   "source": []
  }
 ],
 "metadata": {
  "kernelspec": {
   "display_name": "Python 3.8.10 64-bit (windows store)",
   "language": "python",
   "name": "python3"
  },
  "language_info": {
   "codemirror_mode": {
    "name": "ipython",
    "version": 3
   },
   "file_extension": ".py",
   "mimetype": "text/x-python",
   "name": "python",
   "nbconvert_exporter": "python",
   "pygments_lexer": "ipython3",
   "version": "3.8.10"
  },
  "orig_nbformat": 4,
  "vscode": {
   "interpreter": {
    "hash": "49de8e361bcaa7b87b0d9a1948e17b94b1b6765468a847b75af4a4273d6c7723"
   }
  }
 },
 "nbformat": 4,
 "nbformat_minor": 2
}
