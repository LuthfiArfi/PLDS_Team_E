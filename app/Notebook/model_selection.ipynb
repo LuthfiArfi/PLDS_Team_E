{
 "cells": [
  {
   "cell_type": "markdown",
   "metadata": {},
   "source": [
    "# Data Preparation"
   ]
  },
  {
   "cell_type": "code",
   "execution_count": 1,
   "metadata": {},
   "outputs": [],
   "source": [
    "from sklearn.neural_network import MLPClassifier\n",
    "from sklearn.neighbors import KNeighborsClassifier\n",
    "from sklearn.svm import SVC\n",
    "from sklearn.gaussian_process import GaussianProcessClassifier\n",
    "from sklearn.gaussian_process.kernels import RBF\n",
    "from sklearn.tree import DecisionTreeClassifier\n",
    "from sklearn.ensemble import RandomForestClassifier, AdaBoostClassifier\n",
    "from sklearn.naive_bayes import GaussianNB\n",
    "from sklearn.discriminant_analysis import QuadraticDiscriminantAnalysis\n",
    "from sklearn.metrics import f1_score\n",
    "from sklearn.metrics import accuracy_score\n",
    "from sklearn.metrics import roc_auc_score\n",
    "import joblib\n",
    "import pandas as pd"
   ]
  },
  {
   "cell_type": "code",
   "execution_count": 2,
   "metadata": {},
   "outputs": [],
   "source": [
    "x_train = joblib.load('../output/x_train_preprocessed.pkl')\n",
    "x_test = joblib.load('../output/x_test_preprocessed.pkl')\n",
    "x_valid = joblib.load('../output/x_valid_preprocessed.pkl')\n",
    "y_train = joblib.load('../output/y_train.pkl')\n",
    "y_test = joblib.load('../output/y_test.pkl')\n",
    "y_valid = joblib.load('../output/y_valid.pkl')"
   ]
  },
  {
   "cell_type": "code",
   "execution_count": 3,
   "metadata": {},
   "outputs": [],
   "source": [
    "names = [\n",
    "    \"Nearest Neighbors\",\n",
    "    \"Linear SVM\",\n",
    "    \"RBF SVM\",\n",
    "    \"Gaussian Process\",\n",
    "    \"Decision Tree\",\n",
    "    \"Random Forest\",\n",
    "    \"Neural Net\",\n",
    "    \"AdaBoost\",\n",
    "    \"Naive Bayes\",\n",
    "    \"QDA\",\n",
    "]\n",
    "\n",
    "classifiers = [\n",
    "    KNeighborsClassifier(3),\n",
    "    SVC(kernel=\"linear\", C=0.025),\n",
    "    SVC(gamma=2, C=1),\n",
    "    GaussianProcessClassifier(1.0 * RBF(1.0)),\n",
    "    DecisionTreeClassifier(max_depth=5),\n",
    "    RandomForestClassifier(max_depth=5, n_estimators=10, max_features=1),\n",
    "    MLPClassifier(alpha=0.0001, max_iter=10000, activation='logistic'),\n",
    "    AdaBoostClassifier(),\n",
    "    GaussianNB(),\n",
    "    QuadraticDiscriminantAnalysis(),\n",
    "]\n",
    "\n",
    "f1 = []"
   ]
  },
  {
   "cell_type": "code",
   "execution_count": 4,
   "metadata": {},
   "outputs": [
    {
     "name": "stderr",
     "output_type": "stream",
     "text": [
      "<ipython-input-4-bfa3758e3b9c>:2: DataConversionWarning: A column-vector y was passed when a 1d array was expected. Please change the shape of y to (n_samples, ), for example using ravel().\n",
      "  classifiers[q].fit(x_train, y_train)\n"
     ]
    },
    {
     "name": "stdout",
     "output_type": "stream",
     "text": [
      "{'name': 'Nearest Neighbors', 'f1_score': 0.24442379182156132, 'accuracy': 0.729, 'roc': 0.5389630275157307}\n"
     ]
    }
   ],
   "source": [
    "q = 0\n",
    "classifiers[q].fit(x_train, y_train)\n",
    "y_pred = classifiers[q].predict(x_test)\n",
    "result = {\"name\" : names[q], \"f1_score\":  f1_score(y_true=y_test, y_pred=y_pred)}\n",
    "result[\"accuracy\"] = accuracy_score(y_true=y_test, y_pred=y_pred)\n",
    "result[\"roc\"] = roc_auc_score(y_true=y_test, y_score=y_pred)\n",
    "f1.append(result)\n",
    "print(result)"
   ]
  },
  {
   "cell_type": "code",
   "execution_count": 5,
   "metadata": {},
   "outputs": [
    {
     "name": "stderr",
     "output_type": "stream",
     "text": [
      "c:\\Users\\LuthfiArfi\\anaconda3\\lib\\site-packages\\sklearn\\utils\\validation.py:72: DataConversionWarning: A column-vector y was passed when a 1d array was expected. Please change the shape of y to (n_samples, ), for example using ravel().\n",
      "  return f(**kwargs)\n"
     ]
    },
    {
     "name": "stdout",
     "output_type": "stream",
     "text": [
      "{'name': 'Linear SVM', 'f1_score': 0.0, 'accuracy': 0.7788333333333334, 'roc': 0.5}\n"
     ]
    }
   ],
   "source": [
    "q = 1\n",
    "classifiers[q].fit(x_train, y_train)\n",
    "y_pred = classifiers[q].predict(x_test)\n",
    "result = {\"name\" : names[q], \"f1_score\":  f1_score(y_true=y_test, y_pred=y_pred)}\n",
    "result[\"accuracy\"] = accuracy_score(y_true=y_test, y_pred=y_pred)\n",
    "result[\"roc\"] = roc_auc_score(y_true=y_test, y_score=y_pred)\n",
    "f1.append(result)\n",
    "print(result)"
   ]
  },
  {
   "cell_type": "code",
   "execution_count": 6,
   "metadata": {},
   "outputs": [
    {
     "name": "stderr",
     "output_type": "stream",
     "text": [
      "c:\\Users\\LuthfiArfi\\anaconda3\\lib\\site-packages\\sklearn\\utils\\validation.py:72: DataConversionWarning: A column-vector y was passed when a 1d array was expected. Please change the shape of y to (n_samples, ), for example using ravel().\n",
      "  return f(**kwargs)\n"
     ]
    },
    {
     "name": "stdout",
     "output_type": "stream",
     "text": [
      "{'name': 'RBF SVM', 'f1_score': 0.004501125281320331, 'accuracy': 0.7788333333333334, 'roc': 0.5008093763158009}\n"
     ]
    }
   ],
   "source": [
    "q = 2\n",
    "classifiers[q].fit(x_train, y_train)\n",
    "y_pred = classifiers[q].predict(x_test)\n",
    "result = {\"name\" : names[q], \"f1_score\":  f1_score(y_true=y_test, y_pred=y_pred)}\n",
    "result[\"accuracy\"] = accuracy_score(y_true=y_test, y_pred=y_pred)\n",
    "result[\"roc\"] = roc_auc_score(y_true=y_test, y_score=y_pred)\n",
    "f1.append(result)\n",
    "print(result)"
   ]
  },
  {
   "cell_type": "code",
   "execution_count": 7,
   "metadata": {},
   "outputs": [
    {
     "name": "stdout",
     "output_type": "stream",
     "text": [
      "{'name': 'Decision Tree', 'f1_score': 0.4798482693219535, 'accuracy': 0.8171666666666667, 'roc': 0.6611242638570014}\n"
     ]
    }
   ],
   "source": [
    "q = 4\n",
    "classifiers[q].fit(x_train, y_train)\n",
    "y_pred = classifiers[q].predict(x_test)\n",
    "result = {\"name\" : names[q], \"f1_score\":  f1_score(y_true=y_test, y_pred=y_pred)}\n",
    "result[\"accuracy\"] = accuracy_score(y_true=y_test, y_pred=y_pred)\n",
    "result[\"roc\"] = roc_auc_score(y_true=y_test, y_score=y_pred)\n",
    "f1.append(result)\n",
    "print(result)"
   ]
  },
  {
   "cell_type": "code",
   "execution_count": 8,
   "metadata": {},
   "outputs": [
    {
     "name": "stdout",
     "output_type": "stream",
     "text": [
      "{'name': 'Random Forest', 'f1_score': 0.04647785039941902, 'accuracy': 0.7811666666666667, 'roc': 0.5101313144132683}\n"
     ]
    },
    {
     "name": "stderr",
     "output_type": "stream",
     "text": [
      "<ipython-input-8-279af1080ea3>:2: DataConversionWarning: A column-vector y was passed when a 1d array was expected. Please change the shape of y to (n_samples,), for example using ravel().\n",
      "  classifiers[q].fit(x_train, y_train)\n"
     ]
    }
   ],
   "source": [
    "q = 5\n",
    "classifiers[q].fit(x_train, y_train)\n",
    "y_pred = classifiers[q].predict(x_test)\n",
    "result = {\"name\" : names[q], \"f1_score\":  f1_score(y_true=y_test, y_pred=y_pred)}\n",
    "result[\"accuracy\"] = accuracy_score(y_true=y_test, y_pred=y_pred)\n",
    "result[\"roc\"] = roc_auc_score(y_true=y_test, y_score=y_pred)\n",
    "f1.append(result)\n",
    "print(result)"
   ]
  },
  {
   "cell_type": "code",
   "execution_count": 9,
   "metadata": {},
   "outputs": [
    {
     "name": "stderr",
     "output_type": "stream",
     "text": [
      "c:\\Users\\LuthfiArfi\\anaconda3\\lib\\site-packages\\sklearn\\utils\\validation.py:72: DataConversionWarning: A column-vector y was passed when a 1d array was expected. Please change the shape of y to (n_samples, ), for example using ravel().\n",
      "  return f(**kwargs)\n"
     ]
    },
    {
     "name": "stdout",
     "output_type": "stream",
     "text": [
      "{'name': 'Neural Net', 'f1_score': 0.0, 'accuracy': 0.7786666666666666, 'roc': 0.49989300235394823}\n"
     ]
    }
   ],
   "source": [
    "q = 6\n",
    "classifiers[q].fit(x_train, y_train)\n",
    "y_pred = classifiers[q].predict(x_test)\n",
    "result = {\"name\" : names[q], \"f1_score\":  f1_score(y_true=y_test, y_pred=y_pred)}\n",
    "result[\"accuracy\"] = accuracy_score(y_true=y_test, y_pred=y_pred)\n",
    "result[\"roc\"] = roc_auc_score(y_true=y_test, y_score=y_pred)\n",
    "f1.append(result)\n",
    "print(result)"
   ]
  },
  {
   "cell_type": "code",
   "execution_count": 10,
   "metadata": {},
   "outputs": [
    {
     "name": "stderr",
     "output_type": "stream",
     "text": [
      "c:\\Users\\LuthfiArfi\\anaconda3\\lib\\site-packages\\sklearn\\utils\\validation.py:72: DataConversionWarning: A column-vector y was passed when a 1d array was expected. Please change the shape of y to (n_samples, ), for example using ravel().\n",
      "  return f(**kwargs)\n"
     ]
    },
    {
     "name": "stdout",
     "output_type": "stream",
     "text": [
      "{'name': 'AdaBoost', 'f1_score': 0.4230960676953709, 'accuracy': 0.8068333333333333, 'roc': 0.6326372492751656}\n"
     ]
    }
   ],
   "source": [
    "q = 7\n",
    "classifiers[q].fit(x_train, y_train)\n",
    "y_pred = classifiers[q].predict(x_test)\n",
    "result = {\"name\" : names[q], \"f1_score\":  f1_score(y_true=y_test, y_pred=y_pred)}\n",
    "result[\"accuracy\"] = accuracy_score(y_true=y_test, y_pred=y_pred)\n",
    "result[\"roc\"] = roc_auc_score(y_true=y_test, y_score=y_pred)\n",
    "f1.append(result)\n",
    "print(result)"
   ]
  },
  {
   "cell_type": "code",
   "execution_count": 11,
   "metadata": {},
   "outputs": [
    {
     "name": "stdout",
     "output_type": "stream",
     "text": [
      "{'name': 'Naive Bayes', 'f1_score': 0.34966148944643566, 'accuracy': 0.7278333333333333, 'roc': 0.5856974545203562}\n"
     ]
    },
    {
     "name": "stderr",
     "output_type": "stream",
     "text": [
      "c:\\Users\\LuthfiArfi\\anaconda3\\lib\\site-packages\\sklearn\\utils\\validation.py:72: DataConversionWarning: A column-vector y was passed when a 1d array was expected. Please change the shape of y to (n_samples, ), for example using ravel().\n",
      "  return f(**kwargs)\n"
     ]
    }
   ],
   "source": [
    "q = 8\n",
    "classifiers[q].fit(x_train, y_train)\n",
    "y_pred = classifiers[q].predict(x_test)\n",
    "result = {\"name\" : names[q], \"f1_score\":  f1_score(y_true=y_test, y_pred=y_pred)}\n",
    "result[\"accuracy\"] = accuracy_score(y_true=y_test, y_pred=y_pred)\n",
    "result[\"roc\"] = roc_auc_score(y_true=y_test, y_score=y_pred)\n",
    "f1.append(result)\n",
    "print(result)"
   ]
  },
  {
   "cell_type": "code",
   "execution_count": 12,
   "metadata": {},
   "outputs": [
    {
     "name": "stdout",
     "output_type": "stream",
     "text": [
      "{'name': 'QDA', 'f1_score': 0.23225806451612904, 'accuracy': 0.6826666666666666, 'roc': 0.5159624845450085}\n"
     ]
    },
    {
     "name": "stderr",
     "output_type": "stream",
     "text": [
      "c:\\Users\\LuthfiArfi\\anaconda3\\lib\\site-packages\\sklearn\\utils\\validation.py:72: DataConversionWarning: A column-vector y was passed when a 1d array was expected. Please change the shape of y to (n_samples, ), for example using ravel().\n",
      "  return f(**kwargs)\n",
      "c:\\Users\\LuthfiArfi\\anaconda3\\lib\\site-packages\\sklearn\\discriminant_analysis.py:715: UserWarning: Variables are collinear\n",
      "  warnings.warn(\"Variables are collinear\")\n"
     ]
    }
   ],
   "source": [
    "q = 9\n",
    "classifiers[q].fit(x_train, y_train)\n",
    "y_pred = classifiers[q].predict(x_test)\n",
    "result = {\"name\" : names[q], \"f1_score\":  f1_score(y_true=y_test, y_pred=y_pred)}\n",
    "result[\"accuracy\"] = accuracy_score(y_true=y_test, y_pred=y_pred)\n",
    "result[\"roc\"] = roc_auc_score(y_true=y_test, y_score=y_pred)\n",
    "f1.append(result)\n",
    "print(result)"
   ]
  },
  {
   "cell_type": "code",
   "execution_count": 13,
   "metadata": {},
   "outputs": [
    {
     "data": {
      "text/html": [
       "<div>\n",
       "<style scoped>\n",
       "    .dataframe tbody tr th:only-of-type {\n",
       "        vertical-align: middle;\n",
       "    }\n",
       "\n",
       "    .dataframe tbody tr th {\n",
       "        vertical-align: top;\n",
       "    }\n",
       "\n",
       "    .dataframe thead th {\n",
       "        text-align: right;\n",
       "    }\n",
       "</style>\n",
       "<table border=\"1\" class=\"dataframe\">\n",
       "  <thead>\n",
       "    <tr style=\"text-align: right;\">\n",
       "      <th></th>\n",
       "      <th>name</th>\n",
       "      <th>f1_score</th>\n",
       "      <th>accuracy</th>\n",
       "      <th>roc</th>\n",
       "    </tr>\n",
       "  </thead>\n",
       "  <tbody>\n",
       "    <tr>\n",
       "      <th>0</th>\n",
       "      <td>Nearest Neighbors</td>\n",
       "      <td>0.244424</td>\n",
       "      <td>0.729000</td>\n",
       "      <td>0.538963</td>\n",
       "    </tr>\n",
       "    <tr>\n",
       "      <th>1</th>\n",
       "      <td>Linear SVM</td>\n",
       "      <td>0.000000</td>\n",
       "      <td>0.778833</td>\n",
       "      <td>0.500000</td>\n",
       "    </tr>\n",
       "    <tr>\n",
       "      <th>2</th>\n",
       "      <td>RBF SVM</td>\n",
       "      <td>0.004501</td>\n",
       "      <td>0.778833</td>\n",
       "      <td>0.500809</td>\n",
       "    </tr>\n",
       "    <tr>\n",
       "      <th>3</th>\n",
       "      <td>Decision Tree</td>\n",
       "      <td>0.479848</td>\n",
       "      <td>0.817167</td>\n",
       "      <td>0.661124</td>\n",
       "    </tr>\n",
       "    <tr>\n",
       "      <th>4</th>\n",
       "      <td>Random Forest</td>\n",
       "      <td>0.046478</td>\n",
       "      <td>0.781167</td>\n",
       "      <td>0.510131</td>\n",
       "    </tr>\n",
       "    <tr>\n",
       "      <th>5</th>\n",
       "      <td>Neural Net</td>\n",
       "      <td>0.000000</td>\n",
       "      <td>0.778667</td>\n",
       "      <td>0.499893</td>\n",
       "    </tr>\n",
       "    <tr>\n",
       "      <th>6</th>\n",
       "      <td>AdaBoost</td>\n",
       "      <td>0.423096</td>\n",
       "      <td>0.806833</td>\n",
       "      <td>0.632637</td>\n",
       "    </tr>\n",
       "    <tr>\n",
       "      <th>7</th>\n",
       "      <td>Naive Bayes</td>\n",
       "      <td>0.349661</td>\n",
       "      <td>0.727833</td>\n",
       "      <td>0.585697</td>\n",
       "    </tr>\n",
       "    <tr>\n",
       "      <th>8</th>\n",
       "      <td>QDA</td>\n",
       "      <td>0.232258</td>\n",
       "      <td>0.682667</td>\n",
       "      <td>0.515962</td>\n",
       "    </tr>\n",
       "  </tbody>\n",
       "</table>\n",
       "</div>"
      ],
      "text/plain": [
       "                name  f1_score  accuracy       roc\n",
       "0  Nearest Neighbors  0.244424  0.729000  0.538963\n",
       "1         Linear SVM  0.000000  0.778833  0.500000\n",
       "2            RBF SVM  0.004501  0.778833  0.500809\n",
       "3      Decision Tree  0.479848  0.817167  0.661124\n",
       "4      Random Forest  0.046478  0.781167  0.510131\n",
       "5         Neural Net  0.000000  0.778667  0.499893\n",
       "6           AdaBoost  0.423096  0.806833  0.632637\n",
       "7        Naive Bayes  0.349661  0.727833  0.585697\n",
       "8                QDA  0.232258  0.682667  0.515962"
      ]
     },
     "execution_count": 13,
     "metadata": {},
     "output_type": "execute_result"
    }
   ],
   "source": [
    "df_f1 = pd.DataFrame(f1)\n",
    "df_f1"
   ]
  },
  {
   "cell_type": "code",
   "execution_count": 17,
   "metadata": {},
   "outputs": [
    {
     "name": "stdout",
     "output_type": "stream",
     "text": [
      "model dengan score f1 terbaik adalah:\n",
      "            name  f1_score  accuracy       roc\n",
      "3  Decision Tree  0.479848  0.817167  0.661124\n",
      "=====================\n",
      "model dengan score accuracy terbaik adalah:\n",
      "            name  f1_score  accuracy       roc\n",
      "3  Decision Tree  0.479848  0.817167  0.661124\n",
      "=====================\n",
      "model dengan score roc terbaik adalah:\n",
      "            name  f1_score  accuracy       roc\n",
      "3  Decision Tree  0.479848  0.817167  0.661124\n"
     ]
    }
   ],
   "source": [
    "print('model dengan score f1 terbaik adalah:')\n",
    "print(df_f1.loc[df_f1.f1_score == df_f1.f1_score.max()])\n",
    "print(\"=====================\")\n",
    "print('model dengan score accuracy terbaik adalah:')\n",
    "print(df_f1.loc[df_f1.accuracy == df_f1.accuracy.max()])\n",
    "print(\"=====================\")\n",
    "print('model dengan score roc terbaik adalah:')\n",
    "print(df_f1.loc[df_f1.roc == df_f1.roc.max()])"
   ]
  },
  {
   "cell_type": "code",
   "execution_count": null,
   "metadata": {},
   "outputs": [],
   "source": []
  }
 ],
 "metadata": {
  "kernelspec": {
   "display_name": "Python 3.8.5 ('base')",
   "language": "python",
   "name": "python3"
  },
  "language_info": {
   "codemirror_mode": {
    "name": "ipython",
    "version": 3
   },
   "file_extension": ".py",
   "mimetype": "text/x-python",
   "name": "python",
   "nbconvert_exporter": "python",
   "pygments_lexer": "ipython3",
   "version": "3.8.5"
  },
  "orig_nbformat": 4,
  "vscode": {
   "interpreter": {
    "hash": "3189354b4a0a2144496096a3a0691559a60454c239511d075aeb28ac7c262545"
   }
  }
 },
 "nbformat": 4,
 "nbformat_minor": 2
}
